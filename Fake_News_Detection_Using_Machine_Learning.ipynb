{
  "nbformat": 4,
  "nbformat_minor": 0,
  "metadata": {
    "colab": {
      "provenance": []
    },
    "kernelspec": {
      "name": "python3",
      "display_name": "Python 3"
    },
    "language_info": {
      "name": "python"
    }
  },
  "cells": [
    {
      "cell_type": "code",
      "source": [
        "import numpy as np\n",
        "import pandas as pd\n",
        "import re\n",
        "import string\n",
        "from sklearn.feature_extraction.text import CountVectorizer\n",
        "import torch\n",
        "import torch.nn as nn\n",
        "import matplotlib.pyplot as plt\n",
        "import seaborn as sns\n",
        "from sklearn.model_selection import train_test_split\n",
        "import warnings\n",
        "warnings.filterwarnings('ignore')"
      ],
      "metadata": {
        "id": "SC3ZybksCPfO"
      },
      "execution_count": null,
      "outputs": []
    },
    {
      "cell_type": "code",
      "source": [
        "true_data=pd.read_csv('true.csv')\n",
        "#fake_data=pd.read_csv('')"
      ],
      "metadata": {
        "id": "wmhrQa2mB_6B"
      },
      "execution_count": null,
      "outputs": []
    },
    {
      "cell_type": "code",
      "source": [
        "true_data.head()"
      ],
      "metadata": {
        "colab": {
          "base_uri": "https://localhost:8080/",
          "height": 206
        },
        "id": "PnA4KVlDCevY",
        "outputId": "1e145411-891d-4f87-b87f-61ddea7db054"
      },
      "execution_count": null,
      "outputs": [
        {
          "output_type": "execute_result",
          "data": {
            "text/plain": [
              "                                               title  \\\n",
              "0  As U.S. budget fight looms, Republicans flip t...   \n",
              "1  U.S. military to accept transgender recruits o...   \n",
              "2  Senior U.S. Republican senator: 'Let Mr. Muell...   \n",
              "3  FBI Russia probe helped by Australian diplomat...   \n",
              "4  Trump wants Postal Service to charge 'much mor...   \n",
              "\n",
              "                                                text       subject  \\\n",
              "0  WASHINGTON (Reuters) - The head of a conservat...  politicsNews   \n",
              "1  WASHINGTON (Reuters) - Transgender people will...  politicsNews   \n",
              "2  WASHINGTON (Reuters) - The special counsel inv...  politicsNews   \n",
              "3  WASHINGTON (Reuters) - Trump campaign adviser ...  politicsNews   \n",
              "4  SEATTLE/WASHINGTON (Reuters) - President Donal...  politicsNews   \n",
              "\n",
              "                 date  \n",
              "0  December 31, 2017   \n",
              "1  December 29, 2017   \n",
              "2  December 31, 2017   \n",
              "3  December 30, 2017   \n",
              "4  December 29, 2017   "
            ],
            "text/html": [
              "\n",
              "  <div id=\"df-bef7b174-404e-4afa-a11e-94609e5b104c\">\n",
              "    <div class=\"colab-df-container\">\n",
              "      <div>\n",
              "<style scoped>\n",
              "    .dataframe tbody tr th:only-of-type {\n",
              "        vertical-align: middle;\n",
              "    }\n",
              "\n",
              "    .dataframe tbody tr th {\n",
              "        vertical-align: top;\n",
              "    }\n",
              "\n",
              "    .dataframe thead th {\n",
              "        text-align: right;\n",
              "    }\n",
              "</style>\n",
              "<table border=\"1\" class=\"dataframe\">\n",
              "  <thead>\n",
              "    <tr style=\"text-align: right;\">\n",
              "      <th></th>\n",
              "      <th>title</th>\n",
              "      <th>text</th>\n",
              "      <th>subject</th>\n",
              "      <th>date</th>\n",
              "    </tr>\n",
              "  </thead>\n",
              "  <tbody>\n",
              "    <tr>\n",
              "      <th>0</th>\n",
              "      <td>As U.S. budget fight looms, Republicans flip t...</td>\n",
              "      <td>WASHINGTON (Reuters) - The head of a conservat...</td>\n",
              "      <td>politicsNews</td>\n",
              "      <td>December 31, 2017</td>\n",
              "    </tr>\n",
              "    <tr>\n",
              "      <th>1</th>\n",
              "      <td>U.S. military to accept transgender recruits o...</td>\n",
              "      <td>WASHINGTON (Reuters) - Transgender people will...</td>\n",
              "      <td>politicsNews</td>\n",
              "      <td>December 29, 2017</td>\n",
              "    </tr>\n",
              "    <tr>\n",
              "      <th>2</th>\n",
              "      <td>Senior U.S. Republican senator: 'Let Mr. Muell...</td>\n",
              "      <td>WASHINGTON (Reuters) - The special counsel inv...</td>\n",
              "      <td>politicsNews</td>\n",
              "      <td>December 31, 2017</td>\n",
              "    </tr>\n",
              "    <tr>\n",
              "      <th>3</th>\n",
              "      <td>FBI Russia probe helped by Australian diplomat...</td>\n",
              "      <td>WASHINGTON (Reuters) - Trump campaign adviser ...</td>\n",
              "      <td>politicsNews</td>\n",
              "      <td>December 30, 2017</td>\n",
              "    </tr>\n",
              "    <tr>\n",
              "      <th>4</th>\n",
              "      <td>Trump wants Postal Service to charge 'much mor...</td>\n",
              "      <td>SEATTLE/WASHINGTON (Reuters) - President Donal...</td>\n",
              "      <td>politicsNews</td>\n",
              "      <td>December 29, 2017</td>\n",
              "    </tr>\n",
              "  </tbody>\n",
              "</table>\n",
              "</div>\n",
              "      <button class=\"colab-df-convert\" onclick=\"convertToInteractive('df-bef7b174-404e-4afa-a11e-94609e5b104c')\"\n",
              "              title=\"Convert this dataframe to an interactive table.\"\n",
              "              style=\"display:none;\">\n",
              "        \n",
              "  <svg xmlns=\"http://www.w3.org/2000/svg\" height=\"24px\"viewBox=\"0 0 24 24\"\n",
              "       width=\"24px\">\n",
              "    <path d=\"M0 0h24v24H0V0z\" fill=\"none\"/>\n",
              "    <path d=\"M18.56 5.44l.94 2.06.94-2.06 2.06-.94-2.06-.94-.94-2.06-.94 2.06-2.06.94zm-11 1L8.5 8.5l.94-2.06 2.06-.94-2.06-.94L8.5 2.5l-.94 2.06-2.06.94zm10 10l.94 2.06.94-2.06 2.06-.94-2.06-.94-.94-2.06-.94 2.06-2.06.94z\"/><path d=\"M17.41 7.96l-1.37-1.37c-.4-.4-.92-.59-1.43-.59-.52 0-1.04.2-1.43.59L10.3 9.45l-7.72 7.72c-.78.78-.78 2.05 0 2.83L4 21.41c.39.39.9.59 1.41.59.51 0 1.02-.2 1.41-.59l7.78-7.78 2.81-2.81c.8-.78.8-2.07 0-2.86zM5.41 20L4 18.59l7.72-7.72 1.47 1.35L5.41 20z\"/>\n",
              "  </svg>\n",
              "      </button>\n",
              "      \n",
              "  <style>\n",
              "    .colab-df-container {\n",
              "      display:flex;\n",
              "      flex-wrap:wrap;\n",
              "      gap: 12px;\n",
              "    }\n",
              "\n",
              "    .colab-df-convert {\n",
              "      background-color: #E8F0FE;\n",
              "      border: none;\n",
              "      border-radius: 50%;\n",
              "      cursor: pointer;\n",
              "      display: none;\n",
              "      fill: #1967D2;\n",
              "      height: 32px;\n",
              "      padding: 0 0 0 0;\n",
              "      width: 32px;\n",
              "    }\n",
              "\n",
              "    .colab-df-convert:hover {\n",
              "      background-color: #E2EBFA;\n",
              "      box-shadow: 0px 1px 2px rgba(60, 64, 67, 0.3), 0px 1px 3px 1px rgba(60, 64, 67, 0.15);\n",
              "      fill: #174EA6;\n",
              "    }\n",
              "\n",
              "    [theme=dark] .colab-df-convert {\n",
              "      background-color: #3B4455;\n",
              "      fill: #D2E3FC;\n",
              "    }\n",
              "\n",
              "    [theme=dark] .colab-df-convert:hover {\n",
              "      background-color: #434B5C;\n",
              "      box-shadow: 0px 1px 3px 1px rgba(0, 0, 0, 0.15);\n",
              "      filter: drop-shadow(0px 1px 2px rgba(0, 0, 0, 0.3));\n",
              "      fill: #FFFFFF;\n",
              "    }\n",
              "  </style>\n",
              "\n",
              "      <script>\n",
              "        const buttonEl =\n",
              "          document.querySelector('#df-bef7b174-404e-4afa-a11e-94609e5b104c button.colab-df-convert');\n",
              "        buttonEl.style.display =\n",
              "          google.colab.kernel.accessAllowed ? 'block' : 'none';\n",
              "\n",
              "        async function convertToInteractive(key) {\n",
              "          const element = document.querySelector('#df-bef7b174-404e-4afa-a11e-94609e5b104c');\n",
              "          const dataTable =\n",
              "            await google.colab.kernel.invokeFunction('convertToInteractive',\n",
              "                                                     [key], {});\n",
              "          if (!dataTable) return;\n",
              "\n",
              "          const docLinkHtml = 'Like what you see? Visit the ' +\n",
              "            '<a target=\"_blank\" href=https://colab.research.google.com/notebooks/data_table.ipynb>data table notebook</a>'\n",
              "            + ' to learn more about interactive tables.';\n",
              "          element.innerHTML = '';\n",
              "          dataTable['output_type'] = 'display_data';\n",
              "          await google.colab.output.renderOutput(dataTable, element);\n",
              "          const docLink = document.createElement('div');\n",
              "          docLink.innerHTML = docLinkHtml;\n",
              "          element.appendChild(docLink);\n",
              "        }\n",
              "      </script>\n",
              "    </div>\n",
              "  </div>\n",
              "  "
            ]
          },
          "metadata": {},
          "execution_count": 4
        }
      ]
    },
    {
      "cell_type": "code",
      "source": [
        "fake_data.head()"
      ],
      "metadata": {
        "colab": {
          "base_uri": "https://localhost:8080/",
          "height": 206
        },
        "id": "MMfTnCGyChyY",
        "outputId": "56472162-b776-4b20-de88-d30585e5f3c4"
      },
      "execution_count": null,
      "outputs": [
        {
          "output_type": "execute_result",
          "data": {
            "text/plain": [
              "                                               title  \\\n",
              "0   Donald Trump Sends Out Embarrassing New Year’...   \n",
              "1   Drunk Bragging Trump Staffer Started Russian ...   \n",
              "2   Sheriff David Clarke Becomes An Internet Joke...   \n",
              "3   Trump Is So Obsessed He Even Has Obama’s Name...   \n",
              "4   Pope Francis Just Called Out Donald Trump Dur...   \n",
              "\n",
              "                                                text subject  \\\n",
              "0  Donald Trump just couldn t wish all Americans ...    News   \n",
              "1  House Intelligence Committee Chairman Devin Nu...    News   \n",
              "2  On Friday, it was revealed that former Milwauk...    News   \n",
              "3  On Christmas day, Donald Trump announced that ...    News   \n",
              "4  Pope Francis used his annual Christmas Day mes...    News   \n",
              "\n",
              "                date  \n",
              "0  December 31, 2017  \n",
              "1  December 31, 2017  \n",
              "2  December 30, 2017  \n",
              "3  December 29, 2017  \n",
              "4  December 25, 2017  "
            ],
            "text/html": [
              "\n",
              "  <div id=\"df-8bc3014f-3dc8-4c96-a2c2-fc1b7cd7d2da\">\n",
              "    <div class=\"colab-df-container\">\n",
              "      <div>\n",
              "<style scoped>\n",
              "    .dataframe tbody tr th:only-of-type {\n",
              "        vertical-align: middle;\n",
              "    }\n",
              "\n",
              "    .dataframe tbody tr th {\n",
              "        vertical-align: top;\n",
              "    }\n",
              "\n",
              "    .dataframe thead th {\n",
              "        text-align: right;\n",
              "    }\n",
              "</style>\n",
              "<table border=\"1\" class=\"dataframe\">\n",
              "  <thead>\n",
              "    <tr style=\"text-align: right;\">\n",
              "      <th></th>\n",
              "      <th>title</th>\n",
              "      <th>text</th>\n",
              "      <th>subject</th>\n",
              "      <th>date</th>\n",
              "    </tr>\n",
              "  </thead>\n",
              "  <tbody>\n",
              "    <tr>\n",
              "      <th>0</th>\n",
              "      <td>Donald Trump Sends Out Embarrassing New Year’...</td>\n",
              "      <td>Donald Trump just couldn t wish all Americans ...</td>\n",
              "      <td>News</td>\n",
              "      <td>December 31, 2017</td>\n",
              "    </tr>\n",
              "    <tr>\n",
              "      <th>1</th>\n",
              "      <td>Drunk Bragging Trump Staffer Started Russian ...</td>\n",
              "      <td>House Intelligence Committee Chairman Devin Nu...</td>\n",
              "      <td>News</td>\n",
              "      <td>December 31, 2017</td>\n",
              "    </tr>\n",
              "    <tr>\n",
              "      <th>2</th>\n",
              "      <td>Sheriff David Clarke Becomes An Internet Joke...</td>\n",
              "      <td>On Friday, it was revealed that former Milwauk...</td>\n",
              "      <td>News</td>\n",
              "      <td>December 30, 2017</td>\n",
              "    </tr>\n",
              "    <tr>\n",
              "      <th>3</th>\n",
              "      <td>Trump Is So Obsessed He Even Has Obama’s Name...</td>\n",
              "      <td>On Christmas day, Donald Trump announced that ...</td>\n",
              "      <td>News</td>\n",
              "      <td>December 29, 2017</td>\n",
              "    </tr>\n",
              "    <tr>\n",
              "      <th>4</th>\n",
              "      <td>Pope Francis Just Called Out Donald Trump Dur...</td>\n",
              "      <td>Pope Francis used his annual Christmas Day mes...</td>\n",
              "      <td>News</td>\n",
              "      <td>December 25, 2017</td>\n",
              "    </tr>\n",
              "  </tbody>\n",
              "</table>\n",
              "</div>\n",
              "      <button class=\"colab-df-convert\" onclick=\"convertToInteractive('df-8bc3014f-3dc8-4c96-a2c2-fc1b7cd7d2da')\"\n",
              "              title=\"Convert this dataframe to an interactive table.\"\n",
              "              style=\"display:none;\">\n",
              "        \n",
              "  <svg xmlns=\"http://www.w3.org/2000/svg\" height=\"24px\"viewBox=\"0 0 24 24\"\n",
              "       width=\"24px\">\n",
              "    <path d=\"M0 0h24v24H0V0z\" fill=\"none\"/>\n",
              "    <path d=\"M18.56 5.44l.94 2.06.94-2.06 2.06-.94-2.06-.94-.94-2.06-.94 2.06-2.06.94zm-11 1L8.5 8.5l.94-2.06 2.06-.94-2.06-.94L8.5 2.5l-.94 2.06-2.06.94zm10 10l.94 2.06.94-2.06 2.06-.94-2.06-.94-.94-2.06-.94 2.06-2.06.94z\"/><path d=\"M17.41 7.96l-1.37-1.37c-.4-.4-.92-.59-1.43-.59-.52 0-1.04.2-1.43.59L10.3 9.45l-7.72 7.72c-.78.78-.78 2.05 0 2.83L4 21.41c.39.39.9.59 1.41.59.51 0 1.02-.2 1.41-.59l7.78-7.78 2.81-2.81c.8-.78.8-2.07 0-2.86zM5.41 20L4 18.59l7.72-7.72 1.47 1.35L5.41 20z\"/>\n",
              "  </svg>\n",
              "      </button>\n",
              "      \n",
              "  <style>\n",
              "    .colab-df-container {\n",
              "      display:flex;\n",
              "      flex-wrap:wrap;\n",
              "      gap: 12px;\n",
              "    }\n",
              "\n",
              "    .colab-df-convert {\n",
              "      background-color: #E8F0FE;\n",
              "      border: none;\n",
              "      border-radius: 50%;\n",
              "      cursor: pointer;\n",
              "      display: none;\n",
              "      fill: #1967D2;\n",
              "      height: 32px;\n",
              "      padding: 0 0 0 0;\n",
              "      width: 32px;\n",
              "    }\n",
              "\n",
              "    .colab-df-convert:hover {\n",
              "      background-color: #E2EBFA;\n",
              "      box-shadow: 0px 1px 2px rgba(60, 64, 67, 0.3), 0px 1px 3px 1px rgba(60, 64, 67, 0.15);\n",
              "      fill: #174EA6;\n",
              "    }\n",
              "\n",
              "    [theme=dark] .colab-df-convert {\n",
              "      background-color: #3B4455;\n",
              "      fill: #D2E3FC;\n",
              "    }\n",
              "\n",
              "    [theme=dark] .colab-df-convert:hover {\n",
              "      background-color: #434B5C;\n",
              "      box-shadow: 0px 1px 3px 1px rgba(0, 0, 0, 0.15);\n",
              "      filter: drop-shadow(0px 1px 2px rgba(0, 0, 0, 0.3));\n",
              "      fill: #FFFFFF;\n",
              "    }\n",
              "  </style>\n",
              "\n",
              "      <script>\n",
              "        const buttonEl =\n",
              "          document.querySelector('#df-8bc3014f-3dc8-4c96-a2c2-fc1b7cd7d2da button.colab-df-convert');\n",
              "        buttonEl.style.display =\n",
              "          google.colab.kernel.accessAllowed ? 'block' : 'none';\n",
              "\n",
              "        async function convertToInteractive(key) {\n",
              "          const element = document.querySelector('#df-8bc3014f-3dc8-4c96-a2c2-fc1b7cd7d2da');\n",
              "          const dataTable =\n",
              "            await google.colab.kernel.invokeFunction('convertToInteractive',\n",
              "                                                     [key], {});\n",
              "          if (!dataTable) return;\n",
              "\n",
              "          const docLinkHtml = 'Like what you see? Visit the ' +\n",
              "            '<a target=\"_blank\" href=https://colab.research.google.com/notebooks/data_table.ipynb>data table notebook</a>'\n",
              "            + ' to learn more about interactive tables.';\n",
              "          element.innerHTML = '';\n",
              "          dataTable['output_type'] = 'display_data';\n",
              "          await google.colab.output.renderOutput(dataTable, element);\n",
              "          const docLink = document.createElement('div');\n",
              "          docLink.innerHTML = docLinkHtml;\n",
              "          element.appendChild(docLink);\n",
              "        }\n",
              "      </script>\n",
              "    </div>\n",
              "  </div>\n",
              "  "
            ]
          },
          "metadata": {},
          "execution_count": 82
        }
      ]
    },
    {
      "cell_type": "code",
      "source": [
        "true_data.info()"
      ],
      "metadata": {
        "colab": {
          "base_uri": "https://localhost:8080/"
        },
        "id": "PVpbmoQHNHzK",
        "outputId": "59e0a86a-48ca-4e06-c38a-e1ae31ce3ee6"
      },
      "execution_count": null,
      "outputs": [
        {
          "output_type": "stream",
          "name": "stdout",
          "text": [
            "<class 'pandas.core.frame.DataFrame'>\n",
            "RangeIndex: 21417 entries, 0 to 21416\n",
            "Data columns (total 4 columns):\n",
            " #   Column   Non-Null Count  Dtype \n",
            "---  ------   --------------  ----- \n",
            " 0   title    21417 non-null  object\n",
            " 1   text     21417 non-null  object\n",
            " 2   subject  21417 non-null  object\n",
            " 3   date     21417 non-null  object\n",
            "dtypes: object(4)\n",
            "memory usage: 669.4+ KB\n"
          ]
        }
      ]
    },
    {
      "cell_type": "code",
      "source": [
        "fake_data.info()"
      ],
      "metadata": {
        "colab": {
          "base_uri": "https://localhost:8080/"
        },
        "id": "OG6yn4IHNM_9",
        "outputId": "47655879-ff17-4d24-e492-04f25cfcf1d1"
      },
      "execution_count": null,
      "outputs": [
        {
          "output_type": "stream",
          "name": "stdout",
          "text": [
            "<class 'pandas.core.frame.DataFrame'>\n",
            "RangeIndex: 23481 entries, 0 to 23480\n",
            "Data columns (total 4 columns):\n",
            " #   Column   Non-Null Count  Dtype \n",
            "---  ------   --------------  ----- \n",
            " 0   title    23481 non-null  object\n",
            " 1   text     23481 non-null  object\n",
            " 2   subject  23481 non-null  object\n",
            " 3   date     23481 non-null  object\n",
            "dtypes: object(4)\n",
            "memory usage: 733.9+ KB\n"
          ]
        }
      ]
    },
    {
      "cell_type": "code",
      "source": [
        "true_data[\"label\"] = np.ones(len(true_data),dtype=int)\n",
        "fake_data[\"label\"] = np.zeros(len(fake_data),dtype=int)\n",
        "\n",
        "true_data.head()"
      ],
      "metadata": {
        "colab": {
          "base_uri": "https://localhost:8080/",
          "height": 206
        },
        "id": "zfFyJiW0NSzt",
        "outputId": "e2a421b7-f4ee-476a-d3d0-f03ee4d80a24"
      },
      "execution_count": null,
      "outputs": [
        {
          "output_type": "execute_result",
          "data": {
            "text/plain": [
              "                                               title  \\\n",
              "0  As U.S. budget fight looms, Republicans flip t...   \n",
              "1  U.S. military to accept transgender recruits o...   \n",
              "2  Senior U.S. Republican senator: 'Let Mr. Muell...   \n",
              "3  FBI Russia probe helped by Australian diplomat...   \n",
              "4  Trump wants Postal Service to charge 'much mor...   \n",
              "\n",
              "                                                text       subject  \\\n",
              "0  WASHINGTON (Reuters) - The head of a conservat...  politicsNews   \n",
              "1  WASHINGTON (Reuters) - Transgender people will...  politicsNews   \n",
              "2  WASHINGTON (Reuters) - The special counsel inv...  politicsNews   \n",
              "3  WASHINGTON (Reuters) - Trump campaign adviser ...  politicsNews   \n",
              "4  SEATTLE/WASHINGTON (Reuters) - President Donal...  politicsNews   \n",
              "\n",
              "                 date  label  \n",
              "0  December 31, 2017       1  \n",
              "1  December 29, 2017       1  \n",
              "2  December 31, 2017       1  \n",
              "3  December 30, 2017       1  \n",
              "4  December 29, 2017       1  "
            ],
            "text/html": [
              "\n",
              "  <div id=\"df-b72a2774-157a-47f7-9c0d-80c8c39149db\">\n",
              "    <div class=\"colab-df-container\">\n",
              "      <div>\n",
              "<style scoped>\n",
              "    .dataframe tbody tr th:only-of-type {\n",
              "        vertical-align: middle;\n",
              "    }\n",
              "\n",
              "    .dataframe tbody tr th {\n",
              "        vertical-align: top;\n",
              "    }\n",
              "\n",
              "    .dataframe thead th {\n",
              "        text-align: right;\n",
              "    }\n",
              "</style>\n",
              "<table border=\"1\" class=\"dataframe\">\n",
              "  <thead>\n",
              "    <tr style=\"text-align: right;\">\n",
              "      <th></th>\n",
              "      <th>title</th>\n",
              "      <th>text</th>\n",
              "      <th>subject</th>\n",
              "      <th>date</th>\n",
              "      <th>label</th>\n",
              "    </tr>\n",
              "  </thead>\n",
              "  <tbody>\n",
              "    <tr>\n",
              "      <th>0</th>\n",
              "      <td>As U.S. budget fight looms, Republicans flip t...</td>\n",
              "      <td>WASHINGTON (Reuters) - The head of a conservat...</td>\n",
              "      <td>politicsNews</td>\n",
              "      <td>December 31, 2017</td>\n",
              "      <td>1</td>\n",
              "    </tr>\n",
              "    <tr>\n",
              "      <th>1</th>\n",
              "      <td>U.S. military to accept transgender recruits o...</td>\n",
              "      <td>WASHINGTON (Reuters) - Transgender people will...</td>\n",
              "      <td>politicsNews</td>\n",
              "      <td>December 29, 2017</td>\n",
              "      <td>1</td>\n",
              "    </tr>\n",
              "    <tr>\n",
              "      <th>2</th>\n",
              "      <td>Senior U.S. Republican senator: 'Let Mr. Muell...</td>\n",
              "      <td>WASHINGTON (Reuters) - The special counsel inv...</td>\n",
              "      <td>politicsNews</td>\n",
              "      <td>December 31, 2017</td>\n",
              "      <td>1</td>\n",
              "    </tr>\n",
              "    <tr>\n",
              "      <th>3</th>\n",
              "      <td>FBI Russia probe helped by Australian diplomat...</td>\n",
              "      <td>WASHINGTON (Reuters) - Trump campaign adviser ...</td>\n",
              "      <td>politicsNews</td>\n",
              "      <td>December 30, 2017</td>\n",
              "      <td>1</td>\n",
              "    </tr>\n",
              "    <tr>\n",
              "      <th>4</th>\n",
              "      <td>Trump wants Postal Service to charge 'much mor...</td>\n",
              "      <td>SEATTLE/WASHINGTON (Reuters) - President Donal...</td>\n",
              "      <td>politicsNews</td>\n",
              "      <td>December 29, 2017</td>\n",
              "      <td>1</td>\n",
              "    </tr>\n",
              "  </tbody>\n",
              "</table>\n",
              "</div>\n",
              "      <button class=\"colab-df-convert\" onclick=\"convertToInteractive('df-b72a2774-157a-47f7-9c0d-80c8c39149db')\"\n",
              "              title=\"Convert this dataframe to an interactive table.\"\n",
              "              style=\"display:none;\">\n",
              "        \n",
              "  <svg xmlns=\"http://www.w3.org/2000/svg\" height=\"24px\"viewBox=\"0 0 24 24\"\n",
              "       width=\"24px\">\n",
              "    <path d=\"M0 0h24v24H0V0z\" fill=\"none\"/>\n",
              "    <path d=\"M18.56 5.44l.94 2.06.94-2.06 2.06-.94-2.06-.94-.94-2.06-.94 2.06-2.06.94zm-11 1L8.5 8.5l.94-2.06 2.06-.94-2.06-.94L8.5 2.5l-.94 2.06-2.06.94zm10 10l.94 2.06.94-2.06 2.06-.94-2.06-.94-.94-2.06-.94 2.06-2.06.94z\"/><path d=\"M17.41 7.96l-1.37-1.37c-.4-.4-.92-.59-1.43-.59-.52 0-1.04.2-1.43.59L10.3 9.45l-7.72 7.72c-.78.78-.78 2.05 0 2.83L4 21.41c.39.39.9.59 1.41.59.51 0 1.02-.2 1.41-.59l7.78-7.78 2.81-2.81c.8-.78.8-2.07 0-2.86zM5.41 20L4 18.59l7.72-7.72 1.47 1.35L5.41 20z\"/>\n",
              "  </svg>\n",
              "      </button>\n",
              "      \n",
              "  <style>\n",
              "    .colab-df-container {\n",
              "      display:flex;\n",
              "      flex-wrap:wrap;\n",
              "      gap: 12px;\n",
              "    }\n",
              "\n",
              "    .colab-df-convert {\n",
              "      background-color: #E8F0FE;\n",
              "      border: none;\n",
              "      border-radius: 50%;\n",
              "      cursor: pointer;\n",
              "      display: none;\n",
              "      fill: #1967D2;\n",
              "      height: 32px;\n",
              "      padding: 0 0 0 0;\n",
              "      width: 32px;\n",
              "    }\n",
              "\n",
              "    .colab-df-convert:hover {\n",
              "      background-color: #E2EBFA;\n",
              "      box-shadow: 0px 1px 2px rgba(60, 64, 67, 0.3), 0px 1px 3px 1px rgba(60, 64, 67, 0.15);\n",
              "      fill: #174EA6;\n",
              "    }\n",
              "\n",
              "    [theme=dark] .colab-df-convert {\n",
              "      background-color: #3B4455;\n",
              "      fill: #D2E3FC;\n",
              "    }\n",
              "\n",
              "    [theme=dark] .colab-df-convert:hover {\n",
              "      background-color: #434B5C;\n",
              "      box-shadow: 0px 1px 3px 1px rgba(0, 0, 0, 0.15);\n",
              "      filter: drop-shadow(0px 1px 2px rgba(0, 0, 0, 0.3));\n",
              "      fill: #FFFFFF;\n",
              "    }\n",
              "  </style>\n",
              "\n",
              "      <script>\n",
              "        const buttonEl =\n",
              "          document.querySelector('#df-b72a2774-157a-47f7-9c0d-80c8c39149db button.colab-df-convert');\n",
              "        buttonEl.style.display =\n",
              "          google.colab.kernel.accessAllowed ? 'block' : 'none';\n",
              "\n",
              "        async function convertToInteractive(key) {\n",
              "          const element = document.querySelector('#df-b72a2774-157a-47f7-9c0d-80c8c39149db');\n",
              "          const dataTable =\n",
              "            await google.colab.kernel.invokeFunction('convertToInteractive',\n",
              "                                                     [key], {});\n",
              "          if (!dataTable) return;\n",
              "\n",
              "          const docLinkHtml = 'Like what you see? Visit the ' +\n",
              "            '<a target=\"_blank\" href=https://colab.research.google.com/notebooks/data_table.ipynb>data table notebook</a>'\n",
              "            + ' to learn more about interactive tables.';\n",
              "          element.innerHTML = '';\n",
              "          dataTable['output_type'] = 'display_data';\n",
              "          await google.colab.output.renderOutput(dataTable, element);\n",
              "          const docLink = document.createElement('div');\n",
              "          docLink.innerHTML = docLinkHtml;\n",
              "          element.appendChild(docLink);\n",
              "        }\n",
              "      </script>\n",
              "    </div>\n",
              "  </div>\n",
              "  "
            ]
          },
          "metadata": {},
          "execution_count": 85
        }
      ]
    },
    {
      "cell_type": "code",
      "source": [
        "data = pd.concat((true_data,fake_data),axis=0)\n",
        "print(data.info())"
      ],
      "metadata": {
        "colab": {
          "base_uri": "https://localhost:8080/"
        },
        "id": "uzW0xcPWNbci",
        "outputId": "1fb3f977-a100-4640-9440-db11685005fb"
      },
      "execution_count": null,
      "outputs": [
        {
          "output_type": "stream",
          "name": "stdout",
          "text": [
            "<class 'pandas.core.frame.DataFrame'>\n",
            "Int64Index: 44898 entries, 0 to 23480\n",
            "Data columns (total 5 columns):\n",
            " #   Column   Non-Null Count  Dtype \n",
            "---  ------   --------------  ----- \n",
            " 0   title    44898 non-null  object\n",
            " 1   text     44898 non-null  object\n",
            " 2   subject  44898 non-null  object\n",
            " 3   date     44898 non-null  object\n",
            " 4   label    44898 non-null  int64 \n",
            "dtypes: int64(1), object(4)\n",
            "memory usage: 2.1+ MB\n",
            "None\n"
          ]
        }
      ]
    },
    {
      "cell_type": "code",
      "source": [
        "data = data.sample(frac=1)\n",
        "data.head(10)"
      ],
      "metadata": {
        "colab": {
          "base_uri": "https://localhost:8080/",
          "height": 363
        },
        "id": "iyTE5PDGNpDN",
        "outputId": "622216f9-53d7-4e95-f73d-00e9b866ca4a"
      },
      "execution_count": null,
      "outputs": [
        {
          "output_type": "execute_result",
          "data": {
            "text/plain": [
              "                                                   title  \\\n",
              "3112   Exclusive: Trump administration eyes hardening...   \n",
              "533     Even After Charlottesville, If You Hit Protes...   \n",
              "15821  German police hunt shooter after man killed in...   \n",
              "8955    NRA Thugs Threaten Lawmakers With Bullets For...   \n",
              "8066    Adidas FLAWLESSLY Trolls Anti-Gay Bigots Who ...   \n",
              "19556  WHY IS JILL STEIN Demanding A Recount? Is Hill...   \n",
              "7823    Watch Rubio Try REALLY Hard To Comeback At Tr...   \n",
              "10873  Trump shows his presidential bid is no mere pu...   \n",
              "9111   SARAH SANDERS…She Doesn’t Have Time For THIS! ...   \n",
              "15968  Turkey says unacceptable to invite Syrian Kurd...   \n",
              "\n",
              "                                                    text       subject  \\\n",
              "3112   WASHINGTON (Reuters) - President Donald Trump’...  politicsNews   \n",
              "533    This year America has seen an interesting and ...          News   \n",
              "15821  BERLIN (Reuters) - Police in the northern Germ...     worldnews   \n",
              "8955   As President Obama rolls out executive orders ...          News   \n",
              "8066   With marriage equality nationwide, and with mo...          News   \n",
              "19556  Why a recount only in states that Trump won?Wh...     left-news   \n",
              "7823   In the spirit of remaining at a middle school ...          News   \n",
              "10873  MANCHESTER, N.H. (Reuters) - Donald Trump serv...  politicsNews   \n",
              "9111   Sarah Sanders is great at getting the White Ho...      politics   \n",
              "15968  ANKARA (Reuters) - Turkey cannot accept the Sy...     worldnews   \n",
              "\n",
              "                     date  label  \n",
              "3112       June 20, 2017       1  \n",
              "533       August 18, 2017      0  \n",
              "15821   November 2, 2017       1  \n",
              "8955      January 5, 2016      0  \n",
              "8066    February 16, 2016      0  \n",
              "19556        Nov 25, 2016      0  \n",
              "7823    February 27, 2016      0  \n",
              "10873  February 10, 2016       1  \n",
              "9111         Dec 27, 2017      0  \n",
              "15968   November 1, 2017       1  "
            ],
            "text/html": [
              "\n",
              "  <div id=\"df-6c5ea924-b796-46bf-8041-5e59efc65d75\">\n",
              "    <div class=\"colab-df-container\">\n",
              "      <div>\n",
              "<style scoped>\n",
              "    .dataframe tbody tr th:only-of-type {\n",
              "        vertical-align: middle;\n",
              "    }\n",
              "\n",
              "    .dataframe tbody tr th {\n",
              "        vertical-align: top;\n",
              "    }\n",
              "\n",
              "    .dataframe thead th {\n",
              "        text-align: right;\n",
              "    }\n",
              "</style>\n",
              "<table border=\"1\" class=\"dataframe\">\n",
              "  <thead>\n",
              "    <tr style=\"text-align: right;\">\n",
              "      <th></th>\n",
              "      <th>title</th>\n",
              "      <th>text</th>\n",
              "      <th>subject</th>\n",
              "      <th>date</th>\n",
              "      <th>label</th>\n",
              "    </tr>\n",
              "  </thead>\n",
              "  <tbody>\n",
              "    <tr>\n",
              "      <th>3112</th>\n",
              "      <td>Exclusive: Trump administration eyes hardening...</td>\n",
              "      <td>WASHINGTON (Reuters) - President Donald Trump’...</td>\n",
              "      <td>politicsNews</td>\n",
              "      <td>June 20, 2017</td>\n",
              "      <td>1</td>\n",
              "    </tr>\n",
              "    <tr>\n",
              "      <th>533</th>\n",
              "      <td>Even After Charlottesville, If You Hit Protes...</td>\n",
              "      <td>This year America has seen an interesting and ...</td>\n",
              "      <td>News</td>\n",
              "      <td>August 18, 2017</td>\n",
              "      <td>0</td>\n",
              "    </tr>\n",
              "    <tr>\n",
              "      <th>15821</th>\n",
              "      <td>German police hunt shooter after man killed in...</td>\n",
              "      <td>BERLIN (Reuters) - Police in the northern Germ...</td>\n",
              "      <td>worldnews</td>\n",
              "      <td>November 2, 2017</td>\n",
              "      <td>1</td>\n",
              "    </tr>\n",
              "    <tr>\n",
              "      <th>8955</th>\n",
              "      <td>NRA Thugs Threaten Lawmakers With Bullets For...</td>\n",
              "      <td>As President Obama rolls out executive orders ...</td>\n",
              "      <td>News</td>\n",
              "      <td>January 5, 2016</td>\n",
              "      <td>0</td>\n",
              "    </tr>\n",
              "    <tr>\n",
              "      <th>8066</th>\n",
              "      <td>Adidas FLAWLESSLY Trolls Anti-Gay Bigots Who ...</td>\n",
              "      <td>With marriage equality nationwide, and with mo...</td>\n",
              "      <td>News</td>\n",
              "      <td>February 16, 2016</td>\n",
              "      <td>0</td>\n",
              "    </tr>\n",
              "    <tr>\n",
              "      <th>19556</th>\n",
              "      <td>WHY IS JILL STEIN Demanding A Recount? Is Hill...</td>\n",
              "      <td>Why a recount only in states that Trump won?Wh...</td>\n",
              "      <td>left-news</td>\n",
              "      <td>Nov 25, 2016</td>\n",
              "      <td>0</td>\n",
              "    </tr>\n",
              "    <tr>\n",
              "      <th>7823</th>\n",
              "      <td>Watch Rubio Try REALLY Hard To Comeback At Tr...</td>\n",
              "      <td>In the spirit of remaining at a middle school ...</td>\n",
              "      <td>News</td>\n",
              "      <td>February 27, 2016</td>\n",
              "      <td>0</td>\n",
              "    </tr>\n",
              "    <tr>\n",
              "      <th>10873</th>\n",
              "      <td>Trump shows his presidential bid is no mere pu...</td>\n",
              "      <td>MANCHESTER, N.H. (Reuters) - Donald Trump serv...</td>\n",
              "      <td>politicsNews</td>\n",
              "      <td>February 10, 2016</td>\n",
              "      <td>1</td>\n",
              "    </tr>\n",
              "    <tr>\n",
              "      <th>9111</th>\n",
              "      <td>SARAH SANDERS…She Doesn’t Have Time For THIS! ...</td>\n",
              "      <td>Sarah Sanders is great at getting the White Ho...</td>\n",
              "      <td>politics</td>\n",
              "      <td>Dec 27, 2017</td>\n",
              "      <td>0</td>\n",
              "    </tr>\n",
              "    <tr>\n",
              "      <th>15968</th>\n",
              "      <td>Turkey says unacceptable to invite Syrian Kurd...</td>\n",
              "      <td>ANKARA (Reuters) - Turkey cannot accept the Sy...</td>\n",
              "      <td>worldnews</td>\n",
              "      <td>November 1, 2017</td>\n",
              "      <td>1</td>\n",
              "    </tr>\n",
              "  </tbody>\n",
              "</table>\n",
              "</div>\n",
              "      <button class=\"colab-df-convert\" onclick=\"convertToInteractive('df-6c5ea924-b796-46bf-8041-5e59efc65d75')\"\n",
              "              title=\"Convert this dataframe to an interactive table.\"\n",
              "              style=\"display:none;\">\n",
              "        \n",
              "  <svg xmlns=\"http://www.w3.org/2000/svg\" height=\"24px\"viewBox=\"0 0 24 24\"\n",
              "       width=\"24px\">\n",
              "    <path d=\"M0 0h24v24H0V0z\" fill=\"none\"/>\n",
              "    <path d=\"M18.56 5.44l.94 2.06.94-2.06 2.06-.94-2.06-.94-.94-2.06-.94 2.06-2.06.94zm-11 1L8.5 8.5l.94-2.06 2.06-.94-2.06-.94L8.5 2.5l-.94 2.06-2.06.94zm10 10l.94 2.06.94-2.06 2.06-.94-2.06-.94-.94-2.06-.94 2.06-2.06.94z\"/><path d=\"M17.41 7.96l-1.37-1.37c-.4-.4-.92-.59-1.43-.59-.52 0-1.04.2-1.43.59L10.3 9.45l-7.72 7.72c-.78.78-.78 2.05 0 2.83L4 21.41c.39.39.9.59 1.41.59.51 0 1.02-.2 1.41-.59l7.78-7.78 2.81-2.81c.8-.78.8-2.07 0-2.86zM5.41 20L4 18.59l7.72-7.72 1.47 1.35L5.41 20z\"/>\n",
              "  </svg>\n",
              "      </button>\n",
              "      \n",
              "  <style>\n",
              "    .colab-df-container {\n",
              "      display:flex;\n",
              "      flex-wrap:wrap;\n",
              "      gap: 12px;\n",
              "    }\n",
              "\n",
              "    .colab-df-convert {\n",
              "      background-color: #E8F0FE;\n",
              "      border: none;\n",
              "      border-radius: 50%;\n",
              "      cursor: pointer;\n",
              "      display: none;\n",
              "      fill: #1967D2;\n",
              "      height: 32px;\n",
              "      padding: 0 0 0 0;\n",
              "      width: 32px;\n",
              "    }\n",
              "\n",
              "    .colab-df-convert:hover {\n",
              "      background-color: #E2EBFA;\n",
              "      box-shadow: 0px 1px 2px rgba(60, 64, 67, 0.3), 0px 1px 3px 1px rgba(60, 64, 67, 0.15);\n",
              "      fill: #174EA6;\n",
              "    }\n",
              "\n",
              "    [theme=dark] .colab-df-convert {\n",
              "      background-color: #3B4455;\n",
              "      fill: #D2E3FC;\n",
              "    }\n",
              "\n",
              "    [theme=dark] .colab-df-convert:hover {\n",
              "      background-color: #434B5C;\n",
              "      box-shadow: 0px 1px 3px 1px rgba(0, 0, 0, 0.15);\n",
              "      filter: drop-shadow(0px 1px 2px rgba(0, 0, 0, 0.3));\n",
              "      fill: #FFFFFF;\n",
              "    }\n",
              "  </style>\n",
              "\n",
              "      <script>\n",
              "        const buttonEl =\n",
              "          document.querySelector('#df-6c5ea924-b796-46bf-8041-5e59efc65d75 button.colab-df-convert');\n",
              "        buttonEl.style.display =\n",
              "          google.colab.kernel.accessAllowed ? 'block' : 'none';\n",
              "\n",
              "        async function convertToInteractive(key) {\n",
              "          const element = document.querySelector('#df-6c5ea924-b796-46bf-8041-5e59efc65d75');\n",
              "          const dataTable =\n",
              "            await google.colab.kernel.invokeFunction('convertToInteractive',\n",
              "                                                     [key], {});\n",
              "          if (!dataTable) return;\n",
              "\n",
              "          const docLinkHtml = 'Like what you see? Visit the ' +\n",
              "            '<a target=\"_blank\" href=https://colab.research.google.com/notebooks/data_table.ipynb>data table notebook</a>'\n",
              "            + ' to learn more about interactive tables.';\n",
              "          element.innerHTML = '';\n",
              "          dataTable['output_type'] = 'display_data';\n",
              "          await google.colab.output.renderOutput(dataTable, element);\n",
              "          const docLink = document.createElement('div');\n",
              "          docLink.innerHTML = docLinkHtml;\n",
              "          element.appendChild(docLink);\n",
              "        }\n",
              "      </script>\n",
              "    </div>\n",
              "  </div>\n",
              "  "
            ]
          },
          "metadata": {},
          "execution_count": 87
        }
      ]
    },
    {
      "cell_type": "code",
      "source": [
        "sns.countplot(data[\"label\"])\n",
        "plt.show()"
      ],
      "metadata": {
        "colab": {
          "base_uri": "https://localhost:8080/",
          "height": 279
        },
        "id": "AKVcKRPvN1ia",
        "outputId": "6fb108dd-e6a4-46bd-a45f-aa1c5dc9e0fe"
      },
      "execution_count": null,
      "outputs": [
        {
          "output_type": "display_data",
          "data": {
            "text/plain": [
              "<Figure size 432x288 with 1 Axes>"
            ],
            "image/png": "[encoded data removed]"
          },
          "metadata": {
            "needs_background": "light"
          }
        }
      ]
    },
    {
      "cell_type": "code",
      "source": [
        "data[\"subject\"].value_counts()"
      ],
      "metadata": {
        "colab": {
          "base_uri": "https://localhost:8080/"
        },
        "id": "bR0PTQaPN_aK",
        "outputId": "ea258980-fd3c-4e2c-a17b-a26ddea3c4fe"
      },
      "execution_count": null,
      "outputs": [
        {
          "output_type": "execute_result",
          "data": {
            "text/plain": [
              "politicsNews       11272\n",
              "worldnews          10145\n",
              "News                9050\n",
              "politics            6841\n",
              "left-news           4459\n",
              "Government News     1570\n",
              "US_News              783\n",
              "Middle-east          778\n",
              "Name: subject, dtype: int64"
            ]
          },
          "metadata": {},
          "execution_count": 89
        }
      ]
    },
    {
      "cell_type": "code",
      "source": [
        "data = pd.get_dummies(data,columns=[\"subject\"])\n",
        "data.head()"
      ],
      "metadata": {
        "colab": {
          "base_uri": "https://localhost:8080/",
          "height": 617
        },
        "id": "T10R0Y3yODrI",
        "outputId": "bec8fac2-57b4-4174-ef8b-2d50b9ecd992"
      },
      "execution_count": null,
      "outputs": [
        {
          "output_type": "execute_result",
          "data": {
            "text/plain": [
              "                                                   title  \\\n",
              "3112   Exclusive: Trump administration eyes hardening...   \n",
              "533     Even After Charlottesville, If You Hit Protes...   \n",
              "15821  German police hunt shooter after man killed in...   \n",
              "8955    NRA Thugs Threaten Lawmakers With Bullets For...   \n",
              "8066    Adidas FLAWLESSLY Trolls Anti-Gay Bigots Who ...   \n",
              "\n",
              "                                                    text               date  \\\n",
              "3112   WASHINGTON (Reuters) - President Donald Trump’...     June 20, 2017    \n",
              "533    This year America has seen an interesting and ...    August 18, 2017   \n",
              "15821  BERLIN (Reuters) - Police in the northern Germ...  November 2, 2017    \n",
              "8955   As President Obama rolls out executive orders ...    January 5, 2016   \n",
              "8066   With marriage equality nationwide, and with mo...  February 16, 2016   \n",
              "\n",
              "       label  subject_Government News  subject_Middle-east  subject_News  \\\n",
              "3112       1                        0                    0             0   \n",
              "533        0                        0                    0             1   \n",
              "15821      1                        0                    0             0   \n",
              "8955       0                        0                    0             1   \n",
              "8066       0                        0                    0             1   \n",
              "\n",
              "       subject_US_News  subject_left-news  subject_politics  \\\n",
              "3112                 0                  0                 0   \n",
              "533                  0                  0                 0   \n",
              "15821                0                  0                 0   \n",
              "8955                 0                  0                 0   \n",
              "8066                 0                  0                 0   \n",
              "\n",
              "       subject_politicsNews  subject_worldnews  \n",
              "3112                      1                  0  \n",
              "533                       0                  0  \n",
              "15821                     0                  1  \n",
              "8955                      0                  0  \n",
              "8066                      0                  0  "
            ],
            "text/html": [
              "\n",
              "  <div id=\"df-ea6a4898-eeaa-4dbb-bf79-615ec72025f0\">\n",
              "    <div class=\"colab-df-container\">\n",
              "      <div>\n",
              "<style scoped>\n",
              "    .dataframe tbody tr th:only-of-type {\n",
              "        vertical-align: middle;\n",
              "    }\n",
              "\n",
              "    .dataframe tbody tr th {\n",
              "        vertical-align: top;\n",
              "    }\n",
              "\n",
              "    .dataframe thead th {\n",
              "        text-align: right;\n",
              "    }\n",
              "</style>\n",
              "<table border=\"1\" class=\"dataframe\">\n",
              "  <thead>\n",
              "    <tr style=\"text-align: right;\">\n",
              "      <th></th>\n",
              "      <th>title</th>\n",
              "      <th>text</th>\n",
              "      <th>date</th>\n",
              "      <th>label</th>\n",
              "      <th>subject_Government News</th>\n",
              "      <th>subject_Middle-east</th>\n",
              "      <th>subject_News</th>\n",
              "      <th>subject_US_News</th>\n",
              "      <th>subject_left-news</th>\n",
              "      <th>subject_politics</th>\n",
              "      <th>subject_politicsNews</th>\n",
              "      <th>subject_worldnews</th>\n",
              "    </tr>\n",
              "  </thead>\n",
              "  <tbody>\n",
              "    <tr>\n",
              "      <th>3112</th>\n",
              "      <td>Exclusive: Trump administration eyes hardening...</td>\n",
              "      <td>WASHINGTON (Reuters) - President Donald Trump’...</td>\n",
              "      <td>June 20, 2017</td>\n",
              "      <td>1</td>\n",
              "      <td>0</td>\n",
              "      <td>0</td>\n",
              "      <td>0</td>\n",
              "      <td>0</td>\n",
              "      <td>0</td>\n",
              "      <td>0</td>\n",
              "      <td>1</td>\n",
              "      <td>0</td>\n",
              "    </tr>\n",
              "    <tr>\n",
              "      <th>533</th>\n",
              "      <td>Even After Charlottesville, If You Hit Protes...</td>\n",
              "      <td>This year America has seen an interesting and ...</td>\n",
              "      <td>August 18, 2017</td>\n",
              "      <td>0</td>\n",
              "      <td>0</td>\n",
              "      <td>0</td>\n",
              "      <td>1</td>\n",
              "      <td>0</td>\n",
              "      <td>0</td>\n",
              "      <td>0</td>\n",
              "      <td>0</td>\n",
              "      <td>0</td>\n",
              "    </tr>\n",
              "    <tr>\n",
              "      <th>15821</th>\n",
              "      <td>German police hunt shooter after man killed in...</td>\n",
              "      <td>BERLIN (Reuters) - Police in the northern Germ...</td>\n",
              "      <td>November 2, 2017</td>\n",
              "      <td>1</td>\n",
              "      <td>0</td>\n",
              "      <td>0</td>\n",
              "      <td>0</td>\n",
              "      <td>0</td>\n",
              "      <td>0</td>\n",
              "      <td>0</td>\n",
              "      <td>0</td>\n",
              "      <td>1</td>\n",
              "    </tr>\n",
              "    <tr>\n",
              "      <th>8955</th>\n",
              "      <td>NRA Thugs Threaten Lawmakers With Bullets For...</td>\n",
              "      <td>As President Obama rolls out executive orders ...</td>\n",
              "      <td>January 5, 2016</td>\n",
              "      <td>0</td>\n",
              "      <td>0</td>\n",
              "      <td>0</td>\n",
              "      <td>1</td>\n",
              "      <td>0</td>\n",
              "      <td>0</td>\n",
              "      <td>0</td>\n",
              "      <td>0</td>\n",
              "      <td>0</td>\n",
              "    </tr>\n",
              "    <tr>\n",
              "      <th>8066</th>\n",
              "      <td>Adidas FLAWLESSLY Trolls Anti-Gay Bigots Who ...</td>\n",
              "      <td>With marriage equality nationwide, and with mo...</td>\n",
              "      <td>February 16, 2016</td>\n",
              "      <td>0</td>\n",
              "      <td>0</td>\n",
              "      <td>0</td>\n",
              "      <td>1</td>\n",
              "      <td>0</td>\n",
              "      <td>0</td>\n",
              "      <td>0</td>\n",
              "      <td>0</td>\n",
              "      <td>0</td>\n",
              "    </tr>\n",
              "  </tbody>\n",
              "</table>\n",
              "</div>\n",
              "      <button class=\"colab-df-convert\" onclick=\"convertToInteractive('df-ea6a4898-eeaa-4dbb-bf79-615ec72025f0')\"\n",
              "              title=\"Convert this dataframe to an interactive table.\"\n",
              "              style=\"display:none;\">\n",
              "        \n",
              "  <svg xmlns=\"http://www.w3.org/2000/svg\" height=\"24px\"viewBox=\"0 0 24 24\"\n",
              "       width=\"24px\">\n",
              "    <path d=\"M0 0h24v24H0V0z\" fill=\"none\"/>\n",
              "    <path d=\"M18.56 5.44l.94 2.06.94-2.06 2.06-.94-2.06-.94-.94-2.06-.94 2.06-2.06.94zm-11 1L8.5 8.5l.94-2.06 2.06-.94-2.06-.94L8.5 2.5l-.94 2.06-2.06.94zm10 10l.94 2.06.94-2.06 2.06-.94-2.06-.94-.94-2.06-.94 2.06-2.06.94z\"/><path d=\"M17.41 7.96l-1.37-1.37c-.4-.4-.92-.59-1.43-.59-.52 0-1.04.2-1.43.59L10.3 9.45l-7.72 7.72c-.78.78-.78 2.05 0 2.83L4 21.41c.39.39.9.59 1.41.59.51 0 1.02-.2 1.41-.59l7.78-7.78 2.81-2.81c.8-.78.8-2.07 0-2.86zM5.41 20L4 18.59l7.72-7.72 1.47 1.35L5.41 20z\"/>\n",
              "  </svg>\n",
              "      </button>\n",
              "      \n",
              "  <style>\n",
              "    .colab-df-container {\n",
              "      display:flex;\n",
              "      flex-wrap:wrap;\n",
              "      gap: 12px;\n",
              "    }\n",
              "\n",
              "    .colab-df-convert {\n",
              "      background-color: #E8F0FE;\n",
              "      border: none;\n",
              "      border-radius: 50%;\n",
              "      cursor: pointer;\n",
              "      display: none;\n",
              "      fill: #1967D2;\n",
              "      height: 32px;\n",
              "      padding: 0 0 0 0;\n",
              "      width: 32px;\n",
              "    }\n",
              "\n",
              "    .colab-df-convert:hover {\n",
              "      background-color: #E2EBFA;\n",
              "      box-shadow: 0px 1px 2px rgba(60, 64, 67, 0.3), 0px 1px 3px 1px rgba(60, 64, 67, 0.15);\n",
              "      fill: #174EA6;\n",
              "    }\n",
              "\n",
              "    [theme=dark] .colab-df-convert {\n",
              "      background-color: #3B4455;\n",
              "      fill: #D2E3FC;\n",
              "    }\n",
              "\n",
              "    [theme=dark] .colab-df-convert:hover {\n",
              "      background-color: #434B5C;\n",
              "      box-shadow: 0px 1px 3px 1px rgba(0, 0, 0, 0.15);\n",
              "      filter: drop-shadow(0px 1px 2px rgba(0, 0, 0, 0.3));\n",
              "      fill: #FFFFFF;\n",
              "    }\n",
              "  </style>\n",
              "\n",
              "      <script>\n",
              "        const buttonEl =\n",
              "          document.querySelector('#df-ea6a4898-eeaa-4dbb-bf79-615ec72025f0 button.colab-df-convert');\n",
              "        buttonEl.style.display =\n",
              "          google.colab.kernel.accessAllowed ? 'block' : 'none';\n",
              "\n",
              "        async function convertToInteractive(key) {\n",
              "          const element = document.querySelector('#df-ea6a4898-eeaa-4dbb-bf79-615ec72025f0');\n",
              "          const dataTable =\n",
              "            await google.colab.kernel.invokeFunction('convertToInteractive',\n",
              "                                                     [key], {});\n",
              "          if (!dataTable) return;\n",
              "\n",
              "          const docLinkHtml = 'Like what you see? Visit the ' +\n",
              "            '<a target=\"_blank\" href=https://colab.research.google.com/notebooks/data_table.ipynb>data table notebook</a>'\n",
              "            + ' to learn more about interactive tables.';\n",
              "          element.innerHTML = '';\n",
              "          dataTable['output_type'] = 'display_data';\n",
              "          await google.colab.output.renderOutput(dataTable, element);\n",
              "          const docLink = document.createElement('div');\n",
              "          docLink.innerHTML = docLinkHtml;\n",
              "          element.appendChild(docLink);\n",
              "        }\n",
              "      </script>\n",
              "    </div>\n",
              "  </div>\n",
              "  "
            ]
          },
          "metadata": {},
          "execution_count": 90
        }
      ]
    },
    {
      "cell_type": "code",
      "source": [
        "data = data.drop(\"date\",axis=1)\n",
        "data.info()"
      ],
      "metadata": {
        "colab": {
          "base_uri": "https://localhost:8080/"
        },
        "id": "YXa6eFbXOMol",
        "outputId": "30843d40-05a2-49f9-b9d7-382a7229aa2c"
      },
      "execution_count": null,
      "outputs": [
        {
          "output_type": "stream",
          "name": "stdout",
          "text": [
            "<class 'pandas.core.frame.DataFrame'>\n",
            "Int64Index: 44898 entries, 3112 to 14484\n",
            "Data columns (total 11 columns):\n",
            " #   Column                   Non-Null Count  Dtype \n",
            "---  ------                   --------------  ----- \n",
            " 0   title                    44898 non-null  object\n",
            " 1   text                     44898 non-null  object\n",
            " 2   label                    44898 non-null  int64 \n",
            " 3   subject_Government News  44898 non-null  uint8 \n",
            " 4   subject_Middle-east      44898 non-null  uint8 \n",
            " 5   subject_News             44898 non-null  uint8 \n",
            " 6   subject_US_News          44898 non-null  uint8 \n",
            " 7   subject_left-news        44898 non-null  uint8 \n",
            " 8   subject_politics         44898 non-null  uint8 \n",
            " 9   subject_politicsNews     44898 non-null  uint8 \n",
            " 10  subject_worldnews        44898 non-null  uint8 \n",
            "dtypes: int64(1), object(2), uint8(8)\n",
            "memory usage: 2.7+ MB\n"
          ]
        }
      ]
    },
    {
      "cell_type": "code",
      "source": [
        "def wordopt(text):\n",
        "    text = text.lower()\n",
        "    text = re.sub('\\[.*?\\]', '', text)\n",
        "    text = re.sub(\"\\\\W\",\" \",text)\n",
        "    text = re.sub('https?://\\S+|www\\.\\S+', '', text)\n",
        "    text = re.sub('<.*?>+', '', text)\n",
        "    text = re.sub('[%s]' % re.escape(string.punctuation), '', text)\n",
        "    text = re.sub('\\n', '', text)\n",
        "    text = re.sub('\\w*\\d\\w*', '', text)\n",
        "    return text"
      ],
      "metadata": {
        "id": "6jJg8auIO7uD"
      },
      "execution_count": null,
      "outputs": []
    },
    {
      "cell_type": "code",
      "source": [
        "new_text = []\n",
        "for txt in data.text:\n",
        "  txt=wordopt(txt)\n",
        "  new_text.append(txt)\n",
        "new_text[0]"
      ],
      "metadata": {
        "colab": {
          "base_uri": "https://localhost:8080/",
          "height": 123
        },
        "id": "SEz6n0QFPfxV",
        "outputId": "ceac14db-c80d-4c73-dfaf-5865b21dd431"
      },
      "execution_count": null,
      "outputs": [
        {
          "output_type": "execute_result",
          "data": {
            "text/plain": [
              "'wow  i was just getting ready to switch our tv  internet and phone service to comcast from at t  it looks like we ll be sticking with at t after all  it s interesting how many ceo s of major companies in america are not really all that interested in putting america first  trump s immigration policy  designed to protect our nation from future terror attacks  has shined a light on these ceo s and has made it possible for the american consumer to choose companies who take our national security seriously nbc s corporate parent  comcast  is joining the corporate backlash against president donald trump s popular immigration reform  partly prodded by the company s indian born chief technology officer  sree kotay the company provided employers at its philadelphia headquarters time off on thursday to protest trump s popular policy  which is designed to reduce the inflow of costly refugees and to exclude migrants carrying  hostile attitudes   company protests were also expected in washington d c   new york and california trump s new policy seeks to exclude people who do not support the constitution  or those who would place violent ideologies over american law   those who engage in acts of bigotry or hatred  including  honor  killings  other forms of violence against women  or the persecution of those who practice religions different from their own  or those who would oppress americans of any race  gender  or sexual orientation trump underlined the pro american nature of his reform today  saying at the national prayer breakfast that our nation has the most generous immigration system in the world  but there are those who would exploit that generosity and undermine the values that we hold so dear  we need security  there are those who would seek to enter our country  to spread violence or oppressing other people based upon their faith we will not allow  intolerance to spread in our nation  so in the coming days we will develop a system to make sure those admitted into our country fully embrace our values of religious and personal liberty and that they reject any form of oppression and discrimination  we want people to come into our nation but we want people to love us and love our values  not hate us and hate our values in philadelphia  the  minute protest against the  hostile attitudes  policy was held just after lunch employees of comcast in philadelphia are walking out in protest against trumps immigration order  pic twitter com   bianca portillo   biancaamarilis  february    growing campaign by corporations   including google  starbucks  amazon  lyft and netflix   against the newly elected president and his immigration reform is shaped by their bottom line desire to raise the inflow of immigrant consumers and cheap workers but the corporate backlash is also boosted by sympathy from many top level managers   both native born and immigrant   towards striving migrants  regardless of the migrants  political or ideological views comcast s kotay  for example  arrived in the united states as a child and worked his way to the top of the nation s high tech sector  alongside other indian immigrants who now running google and microsoft  in his twitter account  he describes himself as  comcast  chief technology officer  immigrant  kotay made his political sympathies clear in a message to his employees  in which he appears to described the elected president as  the enemy   and also suggests that trump is similar to now dead venezuelan dictator hugo chavez the screenshot was leaked to a radio station  new jersey   kotay s twitter feed also shows his personal dislike of trump s policies  which may end up reducing the inflow of indian born migrants and contract workers into the united states  include  techhasnowalls https   t co jopimpbbet  sree kotay   sreekotay  february    s policy is designed to exclude  hostile immigrants   including those who reject the u s  constitution or who support violence via islamic holy war or  jihad   the new policy would also exclude people who endorse  honor killings  of women and girls  which is a widespread problem in india and a growing problem in the united states like many other progressive advocates  kotay praises immigrants while downplaying the accomplishment of ordinary americans  who either birthed most of comcast s workforce and customers  and or remain the vast majority of comcast s employees and customers those who would surrender liberty in the name of security deserve neither  pic twitter com   sree kotay   sreekotay  january    entire story go to  breitbart news'"
            ],
            "application/vnd.google.colaboratory.intrinsic+json": {
              "type": "string"
            }
          },
          "metadata": {},
          "execution_count": 49
        }
      ]
    },
    {
      "cell_type": "code",
      "source": [
        "new_title=[]\n",
        "for txt in data.title:\n",
        "  txt=wordopt(txt)\n",
        "  new_title.append(txt)\n",
        "new_title[0]"
      ],
      "metadata": {
        "colab": {
          "base_uri": "https://localhost:8080/",
          "height": 36
        },
        "id": "_BV-4fgTRFY1",
        "outputId": "a733cd8f-4b10-459d-a729-e0e2e853e391"
      },
      "execution_count": null,
      "outputs": [
        {
          "output_type": "execute_result",
          "data": {
            "text/plain": [
              "'comcast gives employees day off to protest trump s pro american immigration policy cto compares trump to venezuelan dictator hugo chavez'"
            ],
            "application/vnd.google.colaboratory.intrinsic+json": {
              "type": "string"
            }
          },
          "metadata": {},
          "execution_count": 50
        }
      ]
    },
    {
      "cell_type": "code",
      "source": [
        "vectorizer_title = CountVectorizer(stop_words=\"english\",max_features=1000)\n",
        "vectorizer_text = CountVectorizer(stop_words=\"english\",max_features=4000)\n",
        "\n",
        "title_matrix = vectorizer_title.fit_transform(new_title).toarray()\n",
        "text_matrix = vectorizer_text.fit_transform(new_text).toarray()\n",
        "\n",
        "print(\"Finished\")"
      ],
      "metadata": {
        "colab": {
          "base_uri": "https://localhost:8080/"
        },
        "id": "pkm4IITORRli",
        "outputId": "409129fa-a1be-44f8-af1a-15f8e4ab4bd7"
      },
      "execution_count": null,
      "outputs": [
        {
          "output_type": "stream",
          "name": "stdout",
          "text": [
            "Finished\n"
          ]
        }
      ]
    },
    {
      "cell_type": "code",
      "source": [
        "data.drop([\"title\",\"text\"],axis=1,inplace=True)\n",
        "data.info()"
      ],
      "metadata": {
        "colab": {
          "base_uri": "https://localhost:8080/"
        },
        "id": "zpaSaFBwRThu",
        "outputId": "ac93c916-0362-46dc-89b6-3356a5805f95"
      },
      "execution_count": null,
      "outputs": [
        {
          "output_type": "stream",
          "name": "stdout",
          "text": [
            "<class 'pandas.core.frame.DataFrame'>\n",
            "Int64Index: 44898 entries, 19204 to 15186\n",
            "Data columns (total 9 columns):\n",
            " #   Column                   Non-Null Count  Dtype\n",
            "---  ------                   --------------  -----\n",
            " 0   label                    44898 non-null  int64\n",
            " 1   subject_Government News  44898 non-null  uint8\n",
            " 2   subject_Middle-east      44898 non-null  uint8\n",
            " 3   subject_News             44898 non-null  uint8\n",
            " 4   subject_US_News          44898 non-null  uint8\n",
            " 5   subject_left-news        44898 non-null  uint8\n",
            " 6   subject_politics         44898 non-null  uint8\n",
            " 7   subject_politicsNews     44898 non-null  uint8\n",
            " 8   subject_worldnews        44898 non-null  uint8\n",
            "dtypes: int64(1), uint8(8)\n",
            "memory usage: 2.0 MB\n"
          ]
        }
      ]
    },
    {
      "cell_type": "code",
      "source": [
        "print(data.shape)\n",
        "print(title_matrix.shape)\n",
        "print(text_matrix.shape)"
      ],
      "metadata": {
        "colab": {
          "base_uri": "https://localhost:8080/"
        },
        "id": "7zcX5McURXuj",
        "outputId": "a47aa7f8-8de2-4c1f-990f-d15fa6e94e8f"
      },
      "execution_count": null,
      "outputs": [
        {
          "output_type": "stream",
          "name": "stdout",
          "text": [
            "(44898, 9)\n",
            "(44898, 1000)\n",
            "(44898, 4000)\n"
          ]
        }
      ]
    },
    {
      "cell_type": "code",
      "source": [
        "# Creating Y\n",
        "y = data.label\n",
        "print(y)\n",
        "# Creating X\n",
        "x = np.concatenate((np.array(data.drop(\"label\",axis=1)),title_matrix,text_matrix),axis=1)\n",
        "print(x)"
      ],
      "metadata": {
        "id": "Toe4Q4AXRbcl",
        "colab": {
          "base_uri": "https://localhost:8080/"
        },
        "outputId": "bb270b75-2eab-43c7-839f-b6d211d02530"
      },
      "execution_count": null,
      "outputs": [
        {
          "output_type": "stream",
          "name": "stdout",
          "text": [
            "3112     1\n",
            "533      0\n",
            "15821    1\n",
            "8955     0\n",
            "8066     0\n",
            "        ..\n",
            "5481     1\n",
            "22368    0\n",
            "1220     0\n",
            "22442    0\n",
            "14484    0\n",
            "Name: label, Length: 44898, dtype: int64\n",
            "[['Exclusive: Trump administration eyes hardening line toward Pakistan'\n",
            "  'WASHINGTON (Reuters) - President Donald Trump’s administration is exploring hardening its approach toward Pakistan to crack down on Pakistan-based militants launching attacks in neighboring Afghanistan, two U.S. officials tell Reuters.  Potential Trump administration responses being discussed include expanding U.S. drone strikes, redirecting or withholding some aid to Pakistan and perhaps eventually downgrading Pakistan’s status as a major non-NATO ally, the two officials said, speaking on condition of anonymity. Other U.S. officials are skeptical of the prospects for success, arguing that years of previous U.S. efforts to curb Pakistan’s support for militant groups have failed, and that already strengthening U.S. ties to India, Pakistan’s arch-enemy, undermine chances of a breakthrough with Islamabad.  U.S. officials say generally they seek greater cooperation with Pakistan, not a rupture in ties, once the administration finishes a regional review, due by mid-July, of the strategy guiding the 16-year-old war in Afghanistan.  The discussions include officials from across the Trump administration, including the White House and the Defense Department, both of which declined comment on the review before its completion. Precise actions have yet to be decided. But Pakistan’s embassy in Washington warned against “scapegoating” Pakistan to explain the stalemate in Afghanistan, pointing instead to Afghanistan’s own troubled internal dynamics. It also noted past Pakistani efforts to battle militants and expressed willingness to work with the United States and Afghanistan on border management. “Singling out Pakistan and pinning the entire blame on Pakistan for the situation in Afghanistan is neither fair nor accurate, nor is it borne out by the ground realities,” said Abid Saeed, press minister at the embassy. Experts on America’s longest war argue that militant safe havens in Pakistan have allowed Taliban-linked insurgents a place to plot deadly strikes in Afghanistan and regroup after ground offensives.  Although long mindful of Pakistan, the Trump administration  in recent weeks has put more emphasis on the relationship with Islamabad in discussions as it hammers out a regional strategy to be presented to Trump, who took office in late January, one official said. “We’ve never really fully articulated what our strategy towards Pakistan is. The strategy will more clearly say what we want from Pakistan specifically,” the U.S. official said, speaking on condition of anonymity. Other U.S. officials question whether any mix of carrots and sticks can get Islamabad to change its behavior. At the end of the day, Washington needs a partner, even if an imperfect one, in nuclear-armed Pakistan, they say. The United States is again poised to deploy thousands more troops in Afghanistan, an acknowledgment that U.S.-backed forces are not winning and Taliban militants are resurgent. Without more pressure on militants within Pakistan who target Afghanistan, experts say additional U.S. troop deployments will fail to meet their ultimate objective: to pressure the Taliban to eventually negotiate peace. “I believe there will be a much harder U.S. line on Pakistan going forward than there has been in the past,” Hamdullah Mohib, the Afghan ambassador to the United States, told Reuters, without citing specific measures under review.  Kabul has long been critical of Pakistan’s role in Afghanistan.  Pakistan fiercely denies allowing any militants safe haven on its territory. It bristles at U.S. claims that Pakistan’s spy agency, the Inter-Services Intelligence (ISI) directorate, has ties to Haqqani network militants blamed for some of the deadliest attacks in Afghanistan. A senior Pakistani government source, speaking on condition of anonymity, doubted the Trump administration would press too hard, saying: “They don’t want to push Pakistan to abandon their war against terrorism.” Pakistani officials point towards the toll militancy has taken on the country. Since 2003, almost 22,000 civilians and nearly 7,000 Pakistani security forces have been killed as a result of militancy, according to the South Asia Terrorism Portal, which tracks violence. But the Pentagon, in a report to Congress released on Tuesday, explicitly accused elements of Pakistan’s government of supporting Afghanistan-focused militant groups, including the Taliban and Haqqani Network, who it said retained “freedom of action” within Pakistan.  It called Pakistan “the most influential external actor affecting Afghan stability.” Pakistan won the status as a major non-NATO ally in 2004 from the George Bush administration, in what was at the time seen in part as recognition of its importance in the U.S. battle against al Qaeda and Taliban insurgents. The status is mainly symbolic, allowing limited benefits such as giving Pakistan faster access to surplus U.S. military hardware. Yanking the title would be seen by Pakistan as a major blow. Some U.S. officials and experts on the region scoff at the title. “Pakistan is not an ally. It’s not North Korea or Iran. But it’s not an ally,” said Bruce Riedel, a Pakistan expert at the Brookings Institution think tank.  Lisa Curtis, prior to becoming senior director for South and Central Asia at the National Security Council, co-authored a report with Husain Haqqani, Pakistan’s former ambassador to Washington, in which they recommended the Trump administration warn Pakistan the status could be revoked in six months.  “Thinking of Pakistan as an ally will continue to create problems for the next administration as it did for the last one,” said the February report, published by the conservative Hudson Institute think tank. It was unclear how seriously the Trump administration was considering the proposal. The growing danger to Afghanistan from suspected Pakistan-based militants was underscored by a devastating May 31 truck bomb that killed more than 80 people and wounded 460 in Kabul.   Afghanistan’s main intelligence agency said the attack - one of the deadliest in memory in the Afghan capital - had been carried out by the Haqqani network with assistance from Pakistan, a charge Islamabad denies. Washington believes the strikes appeared to be the work of the Haqqani network, U.S. officials told Reuters. U.S. frustration over the Haqqani’s presence in Pakistan has been building for years. The United States designated the Haqqani network as a terrorist organization in 2012. U.S. Navy Admiral Mike Mullen, then the top U.S. military officer, told Congress in 2011 that the Haqqani network was a “veritable arm” of the ISI. Any U.S. pivot in its approach would be sharply different than the one taken at the start of the Obama administration, when U.S. officials sought to court Pakistani leaders, including Army chief General Ashfaq Kayani. David Sedney, who served as Obama’s deputy assistant secretary of defense for Afghanistan, Pakistan and Central Asia from 2009 to 2013, said the attempt to turn Islamabad into a strategic partner was a “disaster.” “It didn’t affect Pakistan’s behavior one bit. In fact, I would argue it made Pakistan’s behavior worse,” Sedney said. MORE DRONES, CASH CUT-OFF Pakistan has received more than $33 billion in U.S. assistance since 2002, including more than $14 billion in so-called Coalition Support Funds (CSF), a U.S. Defense Department program to reimburse allies that have incurred costs in supporting counter-insurgency operations. Last year, the Pentagon decided not to pay Pakistan $300 million in CSF funding after then-U.S. Secretary of Defense Ash Carter declined to sign authorization that Pakistan was taking adequate action against the Haqqani network.  \\xa0\\xa0\\xa0\\xa0U.S. officials said the Trump administration was discussing withholding at least some assistance to Pakistan. Curtis’ report singled out the aid as a target. But U.S. aid cuts could cede even more influence to China, which already has committed nearly $60 billion in investments in Pakistan.  Another option under review is broadening a drone campaign to penetrate deeper into Pakistan to target Haqqani fighters and other militants blamed for attacks in Afghanistan, U.S. officials and a Pakistan expert said. “Now the Americans (will be) saying, you aren’t taking out our enemies, so therefore we are taking them out ourselves,” said the Pakistan expert, who declined to be identified. Pakistan’s army chief of staff last week criticized “unilateral actions” such as drone strikes as “counterproductive and against (the) spirit of ongoing cooperation and intelligence sharing being diligently undertaken by Pakistan.” '\n",
            "  0 ... 0 0 0]\n",
            " [' Even After Charlottesville, If You Hit Protesters With A Car, Republicans Want To Protect You'\n",
            "  'This year America has seen an interesting and terrifying new technique for dealing with protesters. Republicans, buoyed by their base s enthusiasm for physically harming people who inconvenience them, took a hard look at all of the things being protested across the country. They saw natives at Standing Rock, young African-Americans at Black Lives Matter rallies, and a pretty wide assortment at Donald Trump s inauguration, and they decided the best way to deal with it was to hit them with cars.That s not hyperbole. I guarantee you have had at least one argument on Facebook with a relative or old high school friend who sees pictures of protests and jokes about running over the people in the streets. The GOP decided to codify that behavior by writing laws that would reduce or remove penalties for drivers who do just that.Beginning with North Dakota, lawmakers in six states began to pen a series of proposals that all looked very similar to each other. House Bill 1203 would set the tone:Notwithstanding any other provision of law, a driver of a motor vehicle who unintentionally causes injury or death to an individual obstructing vehicular traffic on a public road, street, or highway, is not guilty of an offense.Similar laws cropped up in Florida, North Carolina, Rhode Island, Tennessee, and Texas. These heartless laws were part of a larger effort by Republicans to stifle dissent on a larger scale; a proposal in Oregon would have required schools to expel protesters even peripherally involved in a riot, while one in Ferguson, Missouri   the heartland of the Black Lives Matter movement   would have created an offense called  unlawful traffic interference  with which protesters could be charged if they stood in the path of any important white people on their way to do important white people things.It took until the murder of Heather Heyer for Fox Nation to take down a video posted in humor on their website entitled Here s A Reel Of Cars Plowing Through Protesters Trying To Block The Road. I guess this like what a conscience looks like on Fox?But even after the events of this last weekend in Charlottesville, Virginia, those GOP legislators are still defending their bills. On Sunday, Texas Rep. Pat Fallon was wondering if  the far left  knew the difference between a street and a highway. He deleted his social media posts, but his proposal remains:A person operating a motor vehicle who injures another person with the motor vehicle is not liable for the injury if, at the time of the injury:(1) the person operating the motor vehicle was exercising due care; and (2)  the person injured was blocking traffic in a public right-of-way while participating in a protest or demonstration.Any wild guesses what it might take in Texas to prove you were  exercising due care  when you hit that troublesome agitator?Featured image via Chip Somodevilla/Getty Images'\n",
            "  0 ... 0 0 0]\n",
            " ['German police hunt shooter after man killed in Bremen'\n",
            "  'BERLIN (Reuters) - Police in the northern German city of Bremen said they had opened a murder investigation and were still seeking the suspected killer after a man who was shot in a supermarket on Thursday subsequently died of his wounds. In a statement, Bremen police said the killing of the 25-year-old man was not being treated as a terrorist incident and that they were still seeking the alleged killer, who appeared to have been known to his victim.  Initial indications are that the perpetrator and the victim knew each other,  they said.  The police have interviewed witnesses and continue to carry out urgent investigations.      '\n",
            "  0 ... 0 0 0]\n",
            " ...\n",
            " [' Comey Might Have Just Made Sure We Don’t End Up With President Pence When Trump Is Impeached'\n",
            "  'Many of us have been ready to impeach Donald Trump since election night. However, the downside to this scenario was the prospect of Vice President Mike Pence taking his place. Well, thanks to the testimony of former FBI Director James Comey, we may not have to worry about ending up with President Pence when we finally manage to get rid of Trump.On Thursday, Comey testified about how Trump had pressured him to drop his investigation into Mike Flynn s shady Russian ties and tried to back him into a loyalty pledge. Buried in his testimony, which contained one bombshell after another, was this little tidbit: Pence, who was the head of Trump s transition team, knew damn well that Flynn was compromised by not one but two foreign governments   and he allowed him to be named National Security Adviser anyway. In a moment that went largely unnoticed, Sen. Ron Wyden (D-OR) asked Comey if Pence was aware of Flynn s connections to Russia. The former head of the FBI said that yes, Pence knew. He apparently just didn t care. My understanding is that he was,  Comey replied, adding that he got this information from then acting Attorney General Sally Yates, who also ended up fired after angering Trump.This statement may become very important in coming months as we move closer and closer towards impeaching Trump. If Pence was in on all of this then he is just as dirty as Trump and the rest of his crooked cronies. If there was anybody who still thought that maybe Pence is just too oblivious to what s going on around him to notice all the shady sh*t, Comey just cleared that up with his testimony. Pence knew. He knew and still allowed Flynn to have access to our country s most sensitive information. And now, the American people know too.Watch Comey shoot down Pence s hopes of ever becoming president here: Featured image via Drew Angerer/Getty Images'\n",
            "  0 ... 0 0 0]\n",
            " ['“PROPHECY” PROPAGANDA: Zionist Millennialism Refuted'\n",
            "  ' Jay Dyer 21st Century WireDemonstrating where bad hermeneutics and theology lead, plus evidence of a continued conspiracy against historic Orthodox Christianity.Pastor John Hagee of the the large Cornerstone Church in San Antonio, Texas has recently published a book,  In Defense of Israel,  in which he outlines in detail his own total apostasy from the most basic of Christian beliefs that Christ was the Messiah! See our posted video where he states it plain as day. But what is the root of this problem? I say several things. Aside from his own dubious character and obvious bad will, the cause can be found in bad hermeneutics. Hermeneutics is the science of interpretation how we interpret he texts of Sacred Scripture.SEE ALSO: The Holy Business: End-Times Buffoonery in a Modern WorldWhen I saw Hagee on the Glenn Beck Show a couple weeks ago talking about Israel non-stop, I knew something was going on. I used to use John Hagee s  Prophecy Study Bible as an idiot evangelical when I was 18 (several years ago), so I can speak from experience concerning Hagee (also having read some of his books and watched his  prophecy  lectures). END TIMES 2.0: Pastor John Hagee attempting to rapture his flock  (donor base) to the promise land after a possible nuclear Armageddon.  Let s examine some errors of the false hermeneutic of the premillennialists and evangelicals. The first error this entire system is built upon is the idea that Israel is still God s chosen covenant nation. God s promises to Abraham s descendants were purely literal and never able to be revoked, this view holds. God is bound in his eternal love to the literal nation of Israel, even though they have rejected Christ for the most part for the past 2000 years. However, historic Orthodox Christianity has always taught that the Church of Christ is the New Israel, the true bride of Christ, that faithfully keeps the testimony of Christ (Apoc. 12:17). Let s look at some texts that show this point:1. When we examine Christ s parable of the wicked vinedressers, we see an explicit statement from our Lord concerning the possession of the kingdom of God. Keep in mind, Hagee and all his evangelical &liberal friends think God has never, in any sense, revoked the old covenant with Israel, and that they are still the possessors or future possessors of His kingdom:Matt. 21:33:  Hear another parable: There was a certain landowner who planted a vineyard and set a hedge around it, dug a winepress in it and built a tower. And he leased it to vinedressers and went into a far country. 34 Now when vintage-time drew near, he sent his servants to the vinedressers, that they might receive its fruit. 35 And the vinedressers took his servants, beat one, killed one, and stoned another. 36 Again he sent other servants, more than the first, and they did likewise to them. 37 Then last of all he sent his son to them, saying, They will respect my son. 38 But when the vinedressers saw the son, they said among themselves,  This is the heir. Come, let us kill him and seize his inheritance. 39 So they took him and cast him out of the vineyard and killed him.40 Therefore, when the owner of the vineyard comes, what will he do to those vinedressers?  41 They said to Him, He will destroy those wicked men miserably, and lease his vineyard to other vinedressers who will render to him the fruits in their seasons. 42 Jesus said to them, Have you never read in the Scriptures:The stone which the builders rejected Has become the chief cornerstone. This was the LORD s doing, And it is marvelous in our eyes.43 Therefore I say to you, the kingdom of God will be taken from you and given to a nation bearing the fruits of it. 44 And whoever falls on this stone will be broken; but on whomever it falls, it will grind him to powder.  45 Now when the chief priests and Pharisees heard His parables, they perceived that He was speaking of them. 46 But when they sought to lay hands on Him, they feared the multitudes, because they took Him for a prophet. The parable is quite clear, and is explained by our Lord Himself. This was fulfilled when the Romans sacked Jerusalem in 70 A.D., and destroyed the Temple and its administration. This was the definitive end of the Old Testament dispensation, and fulfilled also the predictions of Luke 21. In response to the Jews, Christ says the kingdom of God will be taken from them because of the fact that they are going to murder him. Christ states unequivocally that the kingdom will be transferred to the Gentiles because of the rejection of Christ by the Jews.2. Our Lord commissioned the 12 Apostles to be the foundation stones of the New Israel, replacing what St. Paul calls  flesh Israel  or  Israel after the flesh. Luke 22:  28 But you [Apostles] are those who have continued with Me in My trials. 29 And I bestow upon you a kingdom, just as My Father bestowed one upon Me, 30 that you may eat and drink at My table in My kingdom, and sit on thrones judging the twelve tribes of Israel.So, our Lord has conferred upon the 12 the possession of the kingdom, and it is they and their successors (Luke 10:16, 1 Tim. 1:3-4), who will sit on thrones judging in this spiritual kingdom. Those who sit on these thrones are also their successors, the Bishops of the Church. This is why St. Paul can write in Eph. 2: 19 Now, therefore, you are no longer strangers and foreigners, but fellow citizens with the saints and members of the household of God, 20 having been built on the foundation of the apostles and prophets, Jesus Christ Himself being the chief cornerstone, 21 in whom the whole building, being fitted together, grows into a holy temple in the Lord, 22 in whom you also are being built together for a dwelling place of God in the Spirit. 3. Isn t it ironic that Hagee s church is named  cornerstone. It makes one wonder whether he meant Christ, the true cornerstone, or the Masonic  cornerstone  ceremony performed by masons at the erecting of a new lodge. And in case you think this is far fetched, consider what wikipedia states about Hagee in the entry under his name: Hagee was awarded the  Humanitarian of the Year  award by the San Antonio B nai B rith Council. It was the first time in the history of San Antonio that this award has been given to a Gentile. Dr. Hagee was presented the ZOA Israel Award by U.N. Ambassador Jean Kirkpatrick. This award was given by the Jewish Community of Dallas, Texas. He was presented the ZOA Service Award by Texas Governor Mark White. Houston Mayor Kathy Whitmire issued a special proclamation in his honor declaring Pastor John C. Hagee Day. Hagee has received numerous honors and accolades from national Jewish organizations for his support of Israel. For those that don t know, B nai B rith equates with Jewish Freemasonry. Could Hagee be a Zionist agent? It seems so.4. In response, it is the Catholic Church, and she alone, that is the building of God, the temple of God, the New Jerusalem, that is the kingdom of God built upon the foundation stones of all the Apostles, and it is this kingdom which can never fall. She alone has lasted 2000 years without changing her doctrines and without committing massive apostasy. This is why we see the name of an Apostle and the name of a tribe on each of the 12 foundation stones of the New Jerusalem in St. John s Apocalypse (Apoc. 21). The Cathoic Church has never repealed, though it has qualified the meaning of the inspired words of St. Paul in 1 Thess. 2: 14 For you, brethren, became imitators of the churches of God which are in Judea in Christ Jesus. For you also suffered the same things from your own countrymen, just as they did from the Judeans, 15 who killed both the Lord Jesus and their own prophets, and have persecuted us; and they do not please God and are contrary to all men, 16 forbidding us to speak to the Gentiles that they may be saved, so as always to fill up the measure of their sins; but wrath has come upon them to the uttermost. And Christ Himself has no fear of being labelled  anti-semitic  (though He was, of course a semite!) when he calls Judaism a  synagogue of Satan,  in Apoc. 2:9 & 3:9).5. Is this racism? Anti-semitism? Absolutely not. Arabs are  semites  as much as Jews, and there are and have been millions of Arab Christians. What we are concerned with opposing here is an occult, racist philosophy Zionism, which is just as bad as  white supremacy  or the Black Panthers  ideology. Only by being incorporated into the God-man and His Body, the Church, can these petty, fleshly divisions be overcome, as St. Paul writes in Galatians 3:28-29. There we learn that the true descendants of Abraham are those who operate with the faith of Abraham, not racist pride. John Hagee is, in fact, the racist, who now worships the nation of Israel. Without Christ, there is no salvation. The flesh nation of Israel is cut off from the covenant and cannot attain to heaven without faith in Jesus. Let us look at an important allegory from St. Paul on this matter.Galatians 4:21 Tell me, you who desire to be under the law, do you not hear the law? 22 For it is written that Abraham had two sons: the one by a bondwoman, the other by a freewoman. 23 But he who was of the bondwoman was born according to the flesh, and he of the freewoman through promise, 24 which things are symbolic. For these are the two covenants: the one from Mount Sinai which gives birth to bondage, which is Hagar  25 for this Hagar is Mount Sinai in Arabia, and corresponds to Jerusalem which now is, and is in bondage with her children 26 but the Jerusalem above is free, which is the mother of us all. 27 For it is written:Rejoice, O barren, You who do not bear! Break forth and shout, You who are not in labor! For the desolate has many more children Than she who has a husband. 28 Now we, brethren, as Isaac was, are children of promise. 29 But, as he who was born according to the flesh then persecuted him who was born according to the Spirit, even so it is now. 30 Nevertheless what does the Scripture say? Cast out the bondwoman and her son, for the son of the bondwoman shall not be heir with the son of the forewoman. 31 So then, brethren, we are not children of the bondwoman but of the free. 6. So, you see, there are only two covenants, and there have only ever been two covenants. One, symbolized by Mt. Sinai, which represents Judaism, and which cannot give life to those who seek to externally fulfill its precepts, and the New Covenant, which is the eternal covenant (Heb. 13:20), confirmed in the counsels of the Persons of the Trinity before the foundation of the world (Apoc. 13:8). This New Covenant is the covenant confirmed in Christ s Blood, which is the Eucharist celebrated at every Mass and Divine Liturgy throughout the world (Luke 22:20 with Jer. 31:31). The Old Testament saints themselves put their faith Christ not in Judaistic observances, as Jesus states in John 5:45-46, 8:56. Thus, He is the only way for Jew and Gentile alike (Acts 4:12). And, He only has one Church on earth that has faithfully maintained the traditions of the Apostles, both in Word and in Epistle (2 Thess. 2:15). Unfortunately, Hagee, like those who for a time believed in Christ in the first century and fell away as the writer of Hebrews mentions, Hagee has also has apostatized into Judaism because he is blind to the Spirit of Christ operative in the Old Testament. In other words, in this bad hermeneutic, one fails to understand typology. This is why St. Paul writes: 7 But if the ministry of death, written and engraved on stones, was glorious [the Old Covenant], so that the children of Israel could not look steadily at the face of Moses because of the glory of his countenance, which glory was passing away, 8 how will the ministry of the Spirit not be more glorious? 9 For if the ministry of condemnation had glory, the ministry of righteousness exceeds much more in glory. 10 For even what was made glorious had no glory in this respect, because of the glory that excels. 11 For if what is passing away was glorious, what remains is much more glorious. 12 Therefore, since we have such hope, we use great boldness of speech 13 unlike Moses, who put a veil over his face so that the children of Israel could not look steadily at the end of what was passing away. 14 But their minds were blinded. For until this day the same veil remains uplifted in the reading of the Old Testament, because the veil is taken away in Christ. 15 But even to this day, when Moses is read, a veil lies on their heart. 16 Nevertheless when one turns to the Lord, the veil is taken away. 17 Now the Lord is the Spirit; and where the Spirit of the Lord is, there is liberty. 18 But we all, with unveiled face, beholding as in a mirror the glory of the Lord, are being transformed into the same image from glory to glory, just as by the Spirit of the Lord. What could be clearer? The Old Covenant has been brought to fulfillment and fruition by the New. It (the Law alone) cannot save (and never could), and those who still adhere to it as the proper way to approach God are unfortunately blind to the types of Christ which are found throughout the Law (Luke 24:44). Christ is the true High Priest; Christ is the true Moses; Christ is the true inheritor of the Abrahamic promises; Christ is the fulfillment of the promise to David concerning a kingdom, and on and on. And, all of this is actualized at Christ s First Advent not at some fictitious, literal millennial kingdom in Jerusalem or Illinois. Thus, the kingdom is now (Col. 1:13), and it is the Church, and is ruled by His faithful Bishops abnd priests (Matt. 16:18 with 18:18).7. Consider the First Century writer, St. Clement of Rome, who was ordained by St. Peter wrote: Through countryside and city [the apostles] preached, and they appointed their earliest converts, testing them by the Spirit, to be the bishops and deacons of future believers. Nor was this a novelty, for bishops and deacons had been written about a long time earlier. . . . Our apostles knew through our Lord Jesus Christ that there would be strife for the office of bishop. For this reason, therefore, having received perfect foreknowledge, they appointed those who have already been mentioned and afterwards added the further provision that, if they should die, other approved men should succeed to their ministry  (Letter to the Corinthians 42:4 5, 44:1 3 [A.D. 80]). That s  apostolic succession. Or consider what St. Ignatius, Bishop of Antioch, wrote in his Letter to the Smyrneans (ca 100 A.D.): CHAPTER VIII. LET NOTHING BE DONE WITHOUT THE BISHOP.See that ye all follow the bishop, even as Jesus Christ does the Father, and the presbytery as ye would the apostles; and reverence the deacons, as being the institution of God. Let no man do anything connected with the Church without the bishop. Let that be deemed a proper Eucharist, which is [administered] either by the bishop, or by one to whom he has entrusted it. Wherever the bishop shall appear, there let the multitude [of the people] also be; even as, wherever Jesus Christ is, there is the Catholic Church. It is not lawful without the bishop either to baptize or to celebrate a love-feast; but whatsoever he shall approve of, that is also pleasing to God, so that everything that is done may be secure and valid. St. Cyril of Jerusalem, in his Catechtical Lectures, Lectures 4 and 18, warns: Fall not away either into the sect of the Samaritans, or into Judaism: for Jesus Christ henceforth has ransomed you. Stand aloof from all observance of Sabbaths, and from calling any indifferent meats common or unclean. But especially abhor all the assemblies of wicked heretics; and in every way make your own soul safe, by fastings, prayers, almsgivings, and reading the oracles of God; that having lived the rest of your life in the flesh in soberness and godly doctrine, you may enjoy the one salvation which flows from Baptism; and thus enrolled in the armies of heaven by God and the Father, may also be deemed worthy of the heavenly crowns, in Christ Jesus our Lord, to Whom be the glory for ever and ever. Amen. 25. Of old the Psalmist sang, Bless ye God in the congregations, even the Lord, (ye that are) from the fountains of Israel. But after the Jews for the plots which they made against the Saviour were cast away from His grace, the Saviour built out of the Gentiles a second Holy Church, the Church of us Christians, concerning which he said to Peter, And upon this rock I will build My Church, and the gates of hell shall not prevail against it Matthew 16:18 . And David prophesying of both these, said plainly of the first which was rejected, I have hated the Congregation of evil doers; but of the second which is built up he says in the same Psalm, Lord, I have loved the beauty of Your house; and immediately afterwards, In the Congregations will I bless you, O Lord. For now that the one Church in Judea is cast off, the Churches of Christ are increased over all the world; and of them it is said in the Psalms, Sing unto the Lord a new song, His praise in the Congregation of Saints. Agreeably to which the prophet also said to the Jews, I have no pleasure in you, says the Lord Almighty Malachi 1:10; and immediately afterwards, For from the rising of the sun even unto the going down of the same, My name is glorified among the Gentiles. Concerning this Holy Catholic Church Paul writes to Timothy, That you may know how you ought to behave yourself in the House of God, which is the Church of the Living God, the pillar and ground of the truth 1 Timothy 3:15 . St. Athanasius, in his First Festal Letter, Sec. 8, writes: 8. Now observe; that city, since the coming of our Savior, has had an end, and all the land of the Jews has been laid waste; so that from the testimony of these things (and we need no further proof, being assured by our own eyes of the fact) there must, of necessity, be an end of the shadow. And not from me should these things be learned, but the sacred voice of the prophet foretold, crying;  Behold upon the mountains the feet of Him that brings good tidings, and publishes peace Nahum 1:15;  and what is the message he published, but that which he goes on to say to them,  Keep your feasts, O Judah; pay to the Lord your vows. For they shall no more go to that which is old; it is finished; it is taken away: He is gone up who breathed upon the face, and delivered you from affliction.  Now who is he that went up? a man may say to the Jews, in order that even the boast of the shadow may be done away; neither is it an idle thing to listen to the expression,  It is finished; he is gone up who breathed.  For nothing was finished before he went up who breathed. But as soon as he went up, it was finished. Who was he then, O Jews, as I said before? If Moses, the assertion would be false; for the people were not yet come to the land in which alone they were commanded to perform these rites. But if Samuel, or any other of the prophets, even in that case there would be a perversion of the truth; for hitherto these things were done in Judea, and the city was standing. For it was necessary that while that stood, these things should be performed. So that it was none of these, my beloved, who went up. But if you would hear the true matter, and be kept from Jewish fables, behold our Savior who went up, and  breathed upon the face, and said to His disciples, Receive the Holy Ghost John 20:22.  For as soon as these things were done, everything was finished, for the altar was broken, and the veil of the temple was rent; and although the city was not yet laid waste, the abomination was ready to sit in the midst of the temple, and the city and those ancient ordinances to receive their final consummation. Similarly, the 8th Canon of the Seventh Ecumenical Council (787 A.D.) states: Since certain, erring in the superstitions of the Hebrews, have thought to mock at Christ our God, and feigning to be converted to the religion of Christ do deny him, and in private and secretly keep the Sabbath and observe other Jewish customs, we decree that such persons be not received to communion, nor to prayers, nor into the Church; but let them be openly Hebrews according to their religion, and let them not bring their children to baptism, nor purchase or possess a slave. But if any of them, out of a sincere heart and in faith, is converted and makes profession with his whole heart, setting at naught their customs and observances, and so that others may be convinced and converted, such an one is to be received and baptized, and his children likewise; and let them be taught to take care to hold aloof from the ordinances of the Hebrews. But if they will not do this, let them in no wise be received. In conclusion, bad theology leads to worse theology, and often this is based in a faulty hermeneutic with false presuppositions. With Hagee, its a serious failure to recognize Christ in the Old Testament and typology. Both he and the Zionists are united in rejecting the teaching of the historic Orthodox Fathers. Heresy is like a virus that compounds itself. Premillennialism, dispensationalism, and its offshoot, the virtual worship of Israel, are serious errors that, when worked out to their illogical conclusions, end up denying Christ s divinity and/or necessity of faith in Him for salvation. Hagee demonstrates that.READ MORE SHADOW GOVERNMENT NEWS AT: 21st Century Wire Shadow Government FilesTo hear Jay s full podcasts, see more information and learn how you can become a subscriber to JaysAnalysis.Jay Dyer is the author of the forthcoming title, Esoteric Hollywood: Sex, Cults and Symbols in Film from Trine Day.  Focusing on film, philosophy, geopolitics and all things esoteric, JaysAnalysis and his podcast, Esoteric Hollywood, investigates the deeper meanings between the headlines, exploring the hidden aspects of our sinister synthetic mass media matrix.'\n",
            "  0 ... 0 0 0]\n",
            " ['HOW THE DEATH OF SUPREME COURT JUSTICE SCALIA Puts America’s Gun Rights In Jeopardy [VIDEO]'\n",
            "  'If our next President is a Republican, and if he is allowed to appoint the next Supreme Court Justice, it will be very difficult to find a replacement who has Scalia s brilliant mind and absolute defense of our United States Constitution Of course, I would not like to be replaced by someone who immediately sets about undoing everything that I ve tried to do for 25 years, 26 years, sure. I mean, I shouldn t have to tell you that. Unless you think I m a fool. Obviously, the [second] amendment does not apply to arms that cannot be hand-carried. It s to keep and bear. So, it doesn t apply to cannons. But I suppose there are handheld rocket launchers that can bring down airplanes that will have to be (looked at)   it will have to be decided.  -US Supreme Court Justice ScaliaGun rights groups like the National Rifle Association said that conservative Justice Antonin Scalia s death Saturday puts gun rights on the line. We are one justice away from a Supreme Court that would harm our Second Amendment rights,  said the NRA.WATCH JUSTICE SCALIA talk GUN CONTROL on FOX NEWS at the 6:50 mark. You will likely want to watch this video to the end. This video shines a bright light on the brilliance of Antonin Scalia and his defense of our US Constitution. Scalia comments on his replacement in this video, and on Obama s radical SOTU speech where he called out, and attempted to shame the Supreme Court Justices in front of the entire nation:Scalia was a strong supporter of the Second Amendment, and an avid hunter. Via: Washington Examiner'\n",
            "  0 ... 0 0 0]]\n"
          ]
        }
      ]
    },
    {
      "cell_type": "code",
      "source": [
        "print(x.shape)\n",
        "print(y.shape)"
      ],
      "metadata": {
        "colab": {
          "base_uri": "https://localhost:8080/"
        },
        "id": "AXKYPt4oRhqh",
        "outputId": "dca55baf-ec4c-4cfb-beed-3e942abe4d72"
      },
      "execution_count": null,
      "outputs": [
        {
          "output_type": "stream",
          "name": "stdout",
          "text": [
            "(44898, 5008)\n",
            "(44898,)\n"
          ]
        }
      ]
    },
    {
      "cell_type": "code",
      "source": [
        "from sklearn.model_selection import train_test_split\n",
        "\n",
        "# Train Test Split\n",
        "X_train,X_test,Y_train,Y_test = train_test_split(x,np.array(y),test_size=0.25,random_state=1)\n",
        "print(X_train.shape)\n",
        "print(X_test.shape)\n",
        "print(Y_train.shape)\n",
        "print(Y_test.shape)"
      ],
      "metadata": {
        "colab": {
          "base_uri": "https://localhost:8080/"
        },
        "id": "iHR6THZtRlcy",
        "outputId": "a6dd7d62-74aa-44a7-8ebe-5880877ceccd"
      },
      "execution_count": null,
      "outputs": [
        {
          "output_type": "stream",
          "name": "stdout",
          "text": [
            "(33673, 5008)\n",
            "(11225, 5008)\n",
            "(33673,)\n",
            "(11225,)\n"
          ]
        }
      ]
    },
    {
      "cell_type": "code",
      "source": [
        "class ANN(nn.Module):\n",
        "\n",
        "    def __init__(self):\n",
        "\n",
        "        super(ANN,self).__init__() # Inhertiting\n",
        "\n",
        "        #creating layers\n",
        "        self.linear1 = nn.Linear(5008,2000) # IN 5008 OUT 2000 #forward 5008 backward 2000\n",
        "        self.relu1 = nn.ReLU() # Actfunc 1\n",
        "\n",
        "        self.linear2 = nn.Linear(2000,500) # IN 2000 OUT 500\n",
        "        self.relu2 = nn.ReLU()\n",
        "\n",
        "        self.linear3 = nn.Linear(500,100) # IN 500 OUT 100\n",
        "        self.relu3 = nn.ReLU()\n",
        "\n",
        "        self.linear4 = nn.Linear(100,20) # IN 100 OUT 20\n",
        "        self.relu4 = nn.ReLU()\n",
        "\n",
        "        self.linear5 = nn.Linear(20,2) # IN 20 OUT 2 | OUTPUT\n",
        "\n",
        "\n",
        "    def forward(self,x):\n",
        "\n",
        "        out = self.linear1(x) # Input Layer\n",
        "        out = self.relu1(out)\n",
        "\n",
        "        out = self.linear2(out) # Hidden Layer 1\n",
        "        out = self.relu2(out)\n",
        "\n",
        "        out = self.linear3(out) # Hidden Layer 2\n",
        "        out = self.relu3(out)\n",
        "\n",
        "        out = self.linear4(out) # Hidden Layer 3\n",
        "        out = self.relu4(out)\n",
        "\n",
        "\n",
        "        out = self.linear5(out) # Output Layer\n",
        "\n",
        "        return out\n",
        "\n",
        "\n",
        "model = ANN()\n",
        "optimizer = torch.optim.Adam(model.parameters(),lr=0.01)\n",
        "error = nn.CrossEntropyLoss()"
      ],
      "metadata": {
        "id": "TbcW-m02RpLS"
      },
      "execution_count": null,
      "outputs": []
    },
    {
      "cell_type": "code",
      "source": [
        "# Converting numpy arrays into pytorch tensors\n",
        "X_train = torch.Tensor(X_train)\n",
        "\n",
        "Y_train = torch.Tensor(Y_train).type(torch.LongTensor)\n",
        "\n",
        "X_test = torch.Tensor(X_test)\n",
        "Y_test = torch.Tensor(Y_test)\n",
        "\n",
        "EPOCHS = 20\n",
        "\n",
        "for epoch in range(EPOCHS):\n",
        "\n",
        "    # Clearing gradients\n",
        "    optimizer.zero_grad()\n",
        "\n",
        "    # Forward Propagation\n",
        "    outs = model(X_train)\n",
        "\n",
        "    # Computing Loss\n",
        "    loss = error(outs,Y_train)\n",
        "\n",
        "    # Backward propagation\n",
        "    loss.backward()\n",
        "\n",
        "    # Updating parameters\n",
        "    optimizer.step()\n",
        "\n",
        "    # Printing loss\n",
        "    print(f\"Loss after iteration {epoch} is {loss}\")"
      ],
      "metadata": {
        "colab": {
          "base_uri": "https://localhost:8080/"
        },
        "id": "LlnW5mU7Rtwu",
        "outputId": "010166d7-fad5-4f10-ac12-cafdf0214f1c"
      },
      "execution_count": null,
      "outputs": [
        {
          "output_type": "stream",
          "name": "stdout",
          "text": [
            "Loss after iteration 0 is 0.7133815884590149\n",
            "Loss after iteration 1 is 7.4492926597595215\n",
            "Loss after iteration 2 is 1.1282269954681396\n",
            "Loss after iteration 3 is 0.6945059895515442\n",
            "Loss after iteration 4 is 0.6750882863998413\n",
            "Loss after iteration 5 is 0.6094121932983398\n",
            "Loss after iteration 6 is 0.554080605506897\n",
            "Loss after iteration 7 is 0.478351354598999\n",
            "Loss after iteration 8 is 0.4033137261867523\n",
            "Loss after iteration 9 is 0.35135942697525024\n",
            "Loss after iteration 10 is 0.3187730014324188\n",
            "Loss after iteration 11 is 0.29958197474479675\n",
            "Loss after iteration 12 is 0.28006690740585327\n",
            "Loss after iteration 13 is 0.26598837971687317\n",
            "Loss after iteration 14 is 0.27095672488212585\n",
            "Loss after iteration 15 is 0.25782081484794617\n",
            "Loss after iteration 16 is 0.25473660230636597\n",
            "Loss after iteration 17 is 0.24097312986850739\n",
            "Loss after iteration 18 is 0.25073328614234924\n",
            "Loss after iteration 19 is 0.230716273188591\n"
          ]
        }
      ]
    },
    {
      "cell_type": "markdown",
      "source": [
        "# New Section"
      ],
      "metadata": {
        "id": "JJm1ztnJFDNl"
      }
    },
    {
      "cell_type": "code",
      "source": [
        "# Importing metrics\n",
        "from sklearn.metrics import accuracy_score,confusion_matrix\n",
        "\n",
        "\n",
        "# Prediction\n",
        "y_head = model(X_test)\n",
        "print(y_head[0])\n",
        "# Converting Prediction into labels\n",
        "y_pred = torch.max(y_head,1)[1]\n",
        "print(y_pred[0])\n",
        "\n",
        "# Accuracy score\n",
        "print(\"Model accuracy is \",accuracy_score(y_pred,Y_test))"
      ],
      "metadata": {
        "colab": {
          "base_uri": "https://localhost:8080/"
        },
        "id": "72s4Xp6oRxuR",
        "outputId": "5ac1152c-e548-4739-a8ad-359f2540477b"
      },
      "execution_count": null,
      "outputs": [
        {
          "output_type": "stream",
          "name": "stdout",
          "text": [
            "tensor([-0.3010,  0.2236], grad_fn=<SelectBackward0>)\n",
            "tensor(1)\n",
            "Model accuracy is  0.9873496659242762\n"
          ]
        }
      ]
    }
  ]
}